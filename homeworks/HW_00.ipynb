{
 "cells": [
  {
   "cell_type": "markdown",
   "metadata": {
    "nbgrader": {}
   },
   "source": [
    "# Homework_00 - Jupyter and Python\n",
    "We will be making heavy use of the Python library called NumPy. It is not included by default, so we first need to import it. Go ahead and run the following cell:"
   ]
  },
  {
   "cell_type": "code",
   "execution_count": 1,
   "metadata": {
    "collapsed": false,
    "jupyter": {
     "outputs_hidden": false
    },
    "nbgrader": {}
   },
   "outputs": [],
   "source": [
    "import numpy as np"
   ]
  },
  {
   "cell_type": "markdown",
   "metadata": {
    "nbgrader": {}
   },
   "source": [
    "Now, we have access to all NumPy functions via the variable `np` (this is the convention in the Scientific Python community for referring to NumPy). We can take a look at what this variable actually is, and see that it is in fact the `numpy` module (remember that you will need to have run the cell above before `np` will be defined!):"
   ]
  },
  {
   "cell_type": "code",
   "execution_count": 2,
   "metadata": {
    "collapsed": false,
    "jupyter": {
     "outputs_hidden": false
    },
    "nbgrader": {}
   },
   "outputs": [
    {
     "data": {
      "text/plain": [
       "<module 'numpy' from 'c:\\\\Users\\\\dah18008\\\\Anaconda3\\\\lib\\\\site-packages\\\\numpy\\\\__init__.py'>"
      ]
     },
     "execution_count": 2,
     "metadata": {},
     "output_type": "execute_result"
    }
   ],
   "source": [
    "np"
   ]
  },
  {
   "cell_type": "markdown",
   "metadata": {
    "nbgrader": {}
   },
   "source": [
    "NumPy is incredibly powerful and has many features, but this can be a bit intimidating when you're first starting to use it. If you are familiar with other scientific computing languages, the following guides may be of use:\n",
    "* NumPy for Matlab Users: https://numpy.org/devdocs/user/numpy-for-matlab-users.html\n",
    "* NumPy for R (and S-Plus) Users: http://mathesaurus.sourceforge.net/r-numpy.html\n",
    "\n",
    "If not, don't worry! Here we'll go over the most common NumPy features."
   ]
  },
  {
   "cell_type": "markdown",
   "metadata": {
    "nbgrader": {}
   },
   "source": [
    "## Arrays and lists"
   ]
  },
  {
   "cell_type": "markdown",
   "metadata": {
    "nbgrader": {}
   },
   "source": [
    "The core component of NumPy is the `ndarray`, which is pronounced like \"N-D array\" (i.e., 1-D, 2-D, ..., N-D). We'll use both the terms `ndarray` and \"array\" interchangeably. For now, we're going to stick to just 1-D arrays -- we'll get to multidimensional arrays later."
   ]
  },
  {
   "cell_type": "markdown",
   "metadata": {
    "nbgrader": {}
   },
   "source": [
    "Arrays are very similar to `lists`. Let's first review how lists work. Remember that we can create them using square brackets:"
   ]
  },
  {
   "cell_type": "code",
   "execution_count": 3,
   "metadata": {
    "collapsed": false,
    "jupyter": {
     "outputs_hidden": false
    },
    "nbgrader": {}
   },
   "outputs": [
    {
     "data": {
      "text/plain": [
       "[3, 6, 1, 0, 10, 3]"
      ]
     },
     "execution_count": 3,
     "metadata": {},
     "output_type": "execute_result"
    }
   ],
   "source": [
    "mylist = [3, 6, 1, 0, 10, 3]\n",
    "mylist"
   ]
  },
  {
   "cell_type": "markdown",
   "metadata": {
    "nbgrader": {}
   },
   "source": [
    "And we can access an element via its *index*. To get the first element, we use an index of 0:"
   ]
  },
  {
   "cell_type": "code",
   "execution_count": 4,
   "metadata": {
    "collapsed": false,
    "jupyter": {
     "outputs_hidden": false
    },
    "nbgrader": {}
   },
   "outputs": [
    {
     "name": "stdout",
     "output_type": "stream",
     "text": [
      "The first element of 'mylist' is: 3\n"
     ]
    }
   ],
   "source": [
    "print(\"The first element of 'mylist' is: \" + str(mylist[0]))"
   ]
  },
  {
   "cell_type": "markdown",
   "metadata": {
    "nbgrader": {}
   },
   "source": [
    "To get the second element, we use an index of 1:"
   ]
  },
  {
   "cell_type": "code",
   "execution_count": 5,
   "metadata": {
    "collapsed": false,
    "jupyter": {
     "outputs_hidden": false
    },
    "nbgrader": {}
   },
   "outputs": [
    {
     "name": "stdout",
     "output_type": "stream",
     "text": [
      "The second element of 'mylist' is: 6\n"
     ]
    }
   ],
   "source": [
    "print(\"The second element of 'mylist' is: \" + str(mylist[1]))"
   ]
  },
  {
   "cell_type": "markdown",
   "metadata": {
    "nbgrader": {}
   },
   "source": [
    "And so on."
   ]
  },
  {
   "cell_type": "markdown",
   "metadata": {
    "nbgrader": {}
   },
   "source": [
    "Arrays work very similarly. The first way to create an array is from an already existing list:"
   ]
  },
  {
   "cell_type": "code",
   "execution_count": 6,
   "metadata": {
    "collapsed": false,
    "jupyter": {
     "outputs_hidden": false
    },
    "nbgrader": {}
   },
   "outputs": [
    {
     "data": {
      "text/plain": [
       "array([ 3,  6,  1,  0, 10,  3])"
      ]
     },
     "execution_count": 6,
     "metadata": {},
     "output_type": "execute_result"
    }
   ],
   "source": [
    "myarray = np.array(mylist) # equivalent to np.array([3, 6, 1, 0, 10, 3])\n",
    "myarray"
   ]
  },
  {
   "cell_type": "markdown",
   "metadata": {
    "nbgrader": {}
   },
   "source": [
    "<div class=\"alert alert-info\">\n",
    "Notice that <code>myarray</code> looks different than <code>mylist</code> -- it actually tells you that it's an array. If we take a look at the <i>types</i> of <code>mylist</code> and <code>myarray</code>, we will also see that one is a list and one is an array. Using <code>type</code> can be a very useful way to verify that your variables contain what you want them to contain:\n",
    "</div>"
   ]
  },
  {
   "cell_type": "code",
   "execution_count": 7,
   "metadata": {
    "collapsed": false,
    "jupyter": {
     "outputs_hidden": false
    },
    "nbgrader": {}
   },
   "outputs": [
    {
     "data": {
      "text/plain": [
       "list"
      ]
     },
     "execution_count": 7,
     "metadata": {},
     "output_type": "execute_result"
    }
   ],
   "source": [
    "# look at what type mylist is\n",
    "type(mylist)"
   ]
  },
  {
   "cell_type": "code",
   "execution_count": 8,
   "metadata": {
    "collapsed": false,
    "jupyter": {
     "outputs_hidden": false
    },
    "nbgrader": {}
   },
   "outputs": [
    {
     "data": {
      "text/plain": [
       "numpy.ndarray"
      ]
     },
     "execution_count": 8,
     "metadata": {},
     "output_type": "execute_result"
    }
   ],
   "source": [
    "# look at what type myarray is\n",
    "type(myarray)"
   ]
  },
  {
   "cell_type": "markdown",
   "metadata": {
    "nbgrader": {}
   },
   "source": [
    "We can get elements from a NumPy array in exactly the same way as we get elements from a list:"
   ]
  },
  {
   "cell_type": "code",
   "execution_count": 9,
   "metadata": {
    "collapsed": false,
    "jupyter": {
     "outputs_hidden": false
    },
    "nbgrader": {}
   },
   "outputs": [
    {
     "name": "stdout",
     "output_type": "stream",
     "text": [
      "The first element of 'myarray' is: 3\n",
      "The second element of 'myarray' is: 6\n"
     ]
    }
   ],
   "source": [
    "print(\"The first element of 'myarray' is: \" + str(myarray[0]))\n",
    "print(\"The second element of 'myarray' is: \" + str(myarray[1]))"
   ]
  },
  {
   "cell_type": "markdown",
   "metadata": {
    "nbgrader": {}
   },
   "source": [
    "## Array slicing"
   ]
  },
  {
   "cell_type": "markdown",
   "metadata": {
    "nbgrader": {}
   },
   "source": [
    "<div class=\"alert alert-info\">Also like lists, we can use \"slicing\" to get different parts of the array. Slices look like\n",
    "<code>myarray[a:b:c]</code>, where <code>a</code>, <code>b</code>, and <code>c</code> are all optional (though you have to specify at least one). <code>a</code> is the index of the beginning of the slice, <code>b</code> is the index of the end of the slice (exclusive), and <code>c</code> is the step size.\n",
    "</div>\n",
    "\n",
    "Note that the exclusive slice indexing described above is different than some other languages you may be familiar with, like Matlab and R. `myarray[1:2]` returns only the second elment in myarray in Python, instead of the first and second element. "
   ]
  },
  {
   "cell_type": "markdown",
   "metadata": {
    "nbgrader": {}
   },
   "source": [
    "First, let's quickly look at what is in our array and list (defined above), for reference:"
   ]
  },
  {
   "cell_type": "code",
   "execution_count": 10,
   "metadata": {
    "collapsed": false,
    "jupyter": {
     "outputs_hidden": false
    },
    "nbgrader": {}
   },
   "outputs": [
    {
     "name": "stdout",
     "output_type": "stream",
     "text": [
      "mylist: [3, 6, 1, 0, 10, 3]\n",
      "myarray: [ 3  6  1  0 10  3]\n"
     ]
    }
   ],
   "source": [
    "print(\"mylist:\", mylist)\n",
    "print(\"myarray:\", myarray)"
   ]
  },
  {
   "cell_type": "markdown",
   "metadata": {
    "nbgrader": {}
   },
   "source": [
    "Now, to get all elements except the first:"
   ]
  },
  {
   "cell_type": "code",
   "execution_count": 11,
   "metadata": {
    "collapsed": false,
    "jupyter": {
     "outputs_hidden": false
    },
    "nbgrader": {}
   },
   "outputs": [
    {
     "data": {
      "text/plain": [
       "array([ 6,  1,  0, 10,  3])"
      ]
     },
     "execution_count": 11,
     "metadata": {},
     "output_type": "execute_result"
    }
   ],
   "source": [
    "myarray[1:]"
   ]
  },
  {
   "cell_type": "markdown",
   "metadata": {
    "nbgrader": {}
   },
   "source": [
    "To get all elements except the last:"
   ]
  },
  {
   "cell_type": "code",
   "execution_count": 12,
   "metadata": {
    "collapsed": false,
    "jupyter": {
     "outputs_hidden": false
    },
    "nbgrader": {}
   },
   "outputs": [
    {
     "data": {
      "text/plain": [
       "array([ 3,  6,  1,  0, 10])"
      ]
     },
     "execution_count": 12,
     "metadata": {},
     "output_type": "execute_result"
    }
   ],
   "source": [
    "myarray[:-1]"
   ]
  },
  {
   "cell_type": "markdown",
   "metadata": {
    "nbgrader": {}
   },
   "source": [
    "To get all elements except the first and the last:"
   ]
  },
  {
   "cell_type": "code",
   "execution_count": 13,
   "metadata": {
    "collapsed": false,
    "jupyter": {
     "outputs_hidden": false
    },
    "nbgrader": {}
   },
   "outputs": [
    {
     "data": {
      "text/plain": [
       "array([ 6,  1,  0, 10])"
      ]
     },
     "execution_count": 13,
     "metadata": {},
     "output_type": "execute_result"
    }
   ],
   "source": [
    "myarray[1:-1]"
   ]
  },
  {
   "cell_type": "markdown",
   "metadata": {
    "nbgrader": {}
   },
   "source": [
    "To get every other element of the array (beginning from the *first* element):"
   ]
  },
  {
   "cell_type": "code",
   "execution_count": 14,
   "metadata": {
    "collapsed": false,
    "jupyter": {
     "outputs_hidden": false
    },
    "nbgrader": {}
   },
   "outputs": [
    {
     "data": {
      "text/plain": [
       "array([ 3,  1, 10])"
      ]
     },
     "execution_count": 14,
     "metadata": {},
     "output_type": "execute_result"
    }
   ],
   "source": [
    "myarray[::2]"
   ]
  },
  {
   "cell_type": "markdown",
   "metadata": {
    "nbgrader": {}
   },
   "source": [
    "To get every element of the array (beginning from the *second* element):"
   ]
  },
  {
   "cell_type": "code",
   "execution_count": 15,
   "metadata": {
    "collapsed": false,
    "jupyter": {
     "outputs_hidden": false
    },
    "nbgrader": {}
   },
   "outputs": [
    {
     "data": {
      "text/plain": [
       "array([6, 0, 3])"
      ]
     },
     "execution_count": 15,
     "metadata": {},
     "output_type": "execute_result"
    }
   ],
   "source": [
    "myarray[1::2]"
   ]
  },
  {
   "cell_type": "markdown",
   "metadata": {
    "nbgrader": {}
   },
   "source": [
    "And to reverse the array:"
   ]
  },
  {
   "cell_type": "code",
   "execution_count": 16,
   "metadata": {
    "collapsed": false,
    "jupyter": {
     "outputs_hidden": false
    },
    "nbgrader": {}
   },
   "outputs": [
    {
     "data": {
      "text/plain": [
       "array([ 3, 10,  0,  1,  6,  3])"
      ]
     },
     "execution_count": 16,
     "metadata": {},
     "output_type": "execute_result"
    }
   ],
   "source": [
    "myarray[::-1]"
   ]
  },
  {
   "cell_type": "markdown",
   "metadata": {
    "nbgrader": {}
   },
   "source": [
    "## Array computations"
   ]
  },
  {
   "cell_type": "markdown",
   "metadata": {
    "nbgrader": {}
   },
   "source": [
    "So far, NumPy arrays seem basically the same as regular lists. What's the big deal about them?"
   ]
  },
  {
   "cell_type": "markdown",
   "metadata": {
    "nbgrader": {}
   },
   "source": [
    "### Working with single arrays"
   ]
  },
  {
   "cell_type": "markdown",
   "metadata": {
    "nbgrader": {}
   },
   "source": [
    "One advantage of using NumPy arrays over lists is the ability to do a computation over the entire array. For example, if you were using lists and wanted to add one to every element of the list, here's how you would do it:"
   ]
  },
  {
   "cell_type": "code",
   "execution_count": 17,
   "metadata": {
    "collapsed": false,
    "jupyter": {
     "outputs_hidden": false
    },
    "nbgrader": {}
   },
   "outputs": [
    {
     "data": {
      "text/plain": [
       "[4, 7, 2, 1, 11, 23]"
      ]
     },
     "execution_count": 17,
     "metadata": {},
     "output_type": "execute_result"
    }
   ],
   "source": [
    "mylist = [3, 6, 1, 0, 10, 22]\n",
    "mylist_plus1 = []\n",
    "for x in mylist:\n",
    "    mylist_plus1.append(x + 1)\n",
    "mylist_plus1"
   ]
  },
  {
   "cell_type": "markdown",
   "metadata": {
    "nbgrader": {}
   },
   "source": [
    "Or, you could use a list comprehension:"
   ]
  },
  {
   "cell_type": "code",
   "execution_count": 18,
   "metadata": {
    "collapsed": false,
    "jupyter": {
     "outputs_hidden": false
    },
    "nbgrader": {}
   },
   "outputs": [
    {
     "data": {
      "text/plain": [
       "[4, 7, 2, 1, 11, 23]"
      ]
     },
     "execution_count": 18,
     "metadata": {},
     "output_type": "execute_result"
    }
   ],
   "source": [
    "mylist = [3, 6, 1, 0, 10, 22]\n",
    "mylist_plus1 = [x + 1 for x in mylist]\n",
    "mylist_plus1"
   ]
  },
  {
   "cell_type": "markdown",
   "metadata": {
    "nbgrader": {}
   },
   "source": [
    "<div class=\"alert alert-danger\">\n",
    "If you haven't seen list comprehensions before, we <b>strongly</b> recommend that you go through the <a href=\"http://www.codecademy.com/tracks/python\">\"Advanced Topics\" section on Codecademy</a> before proceeding!:\n",
    "</div>"
   ]
  },
  {
   "cell_type": "markdown",
   "metadata": {
    "nbgrader": {}
   },
   "source": [
    "In contrast, adding one to every element of a NumPy array is far simpler:"
   ]
  },
  {
   "cell_type": "code",
   "execution_count": 19,
   "metadata": {
    "collapsed": false,
    "jupyter": {
     "outputs_hidden": false
    },
    "nbgrader": {}
   },
   "outputs": [
    {
     "data": {
      "text/plain": [
       "array([ 4,  7,  2,  1, 11, 23])"
      ]
     },
     "execution_count": 19,
     "metadata": {},
     "output_type": "execute_result"
    }
   ],
   "source": [
    "myarray = np.array([3, 6, 1, 0, 10, 22])\n",
    "myarray_plus1 = myarray + 1\n",
    "myarray_plus1"
   ]
  },
  {
   "cell_type": "markdown",
   "metadata": {
    "nbgrader": {}
   },
   "source": [
    "This won't work with normal lists. For example, if you ran `mylist + 1`, you'd get an error like this:\n",
    "\n",
    "```\n",
    "---------------------------------------------------------------------------\n",
    "TypeError                                 Traceback (most recent call last)\n",
    "<ipython-input-19-5b3951a16990> in <module>()\n",
    "----> 1 mylist + 1\n",
    "\n",
    "TypeError: can only concatenate list (not \"int\") to list\n",
    "```"
   ]
  },
  {
   "cell_type": "markdown",
   "metadata": {
    "nbgrader": {}
   },
   "source": [
    "We can do the same thing for subtraction, multiplication, etc.:"
   ]
  },
  {
   "cell_type": "code",
   "execution_count": 20,
   "metadata": {
    "collapsed": false,
    "jupyter": {
     "outputs_hidden": false
    },
    "nbgrader": {}
   },
   "outputs": [
    {
     "name": "stdout",
     "output_type": "stream",
     "text": [
      "Subtraction: \t[ 1  4 -1 -2  8 20]\n",
      "Multiplication:\t[ 30  60  10   0 100 220]\n",
      "Squared: \t[  9  36   1   0 100 484]\n",
      "Square root: \t[1.73205081 2.44948974 1.         0.         3.16227766 4.69041576]\n",
      "Exponential: \t[2.00855369e+01 4.03428793e+02 2.71828183e+00 1.00000000e+00\n",
      " 2.20264658e+04 3.58491285e+09]\n"
     ]
    }
   ],
   "source": [
    "print(\"Subtraction: \\t\" + str(myarray - 2))\n",
    "print(\"Multiplication:\\t\" + str(myarray * 10))\n",
    "print(\"Squared: \\t\" + str(myarray ** 2))\n",
    "print(\"Square root: \\t\" + str(np.sqrt(myarray)))\n",
    "print(\"Exponential: \\t\" + str(np.exp(myarray)))"
   ]
  },
  {
   "cell_type": "markdown",
   "metadata": {
    "nbgrader": {}
   },
   "source": [
    "### Working with multiple arrays"
   ]
  },
  {
   "cell_type": "markdown",
   "metadata": {
    "nbgrader": {}
   },
   "source": [
    "We can also easily do these operations for multiple arrays. For example, let's say we want to add the corresponding elements of two lists together. Here's how we'd do it with regular lists:"
   ]
  },
  {
   "cell_type": "code",
   "execution_count": 21,
   "metadata": {
    "collapsed": false,
    "jupyter": {
     "outputs_hidden": false
    },
    "nbgrader": {}
   },
   "outputs": [
    {
     "data": {
      "text/plain": [
       "[7, 9, 11, 13, 15]"
      ]
     },
     "execution_count": 21,
     "metadata": {},
     "output_type": "execute_result"
    }
   ],
   "source": [
    "list_a = [1, 2, 3, 4, 5]\n",
    "list_b = [6, 7, 8, 9, 10]\n",
    "list_c = [list_a[i] + list_b[i] for i in range(len(list_a))]\n",
    "list_c"
   ]
  },
  {
   "cell_type": "markdown",
   "metadata": {
    "nbgrader": {}
   },
   "source": [
    "With NumPy arrays, we just have to add the arrays together:"
   ]
  },
  {
   "cell_type": "code",
   "execution_count": 22,
   "metadata": {
    "collapsed": false,
    "jupyter": {
     "outputs_hidden": false
    },
    "nbgrader": {}
   },
   "outputs": [
    {
     "data": {
      "text/plain": [
       "array([ 7,  9, 11, 13, 15])"
      ]
     },
     "execution_count": 22,
     "metadata": {},
     "output_type": "execute_result"
    }
   ],
   "source": [
    "array_a = np.array(list_a) # equivalent to np.array([1, 2, 3, 4, 5])\n",
    "array_b = np.array(list_b) # equivalent to np.array([6, 7, 8, 9, 10])\n",
    "array_c = array_a + array_b\n",
    "array_c"
   ]
  },
  {
   "cell_type": "markdown",
   "metadata": {
    "nbgrader": {}
   },
   "source": [
    "<div class=\"alert alert-warning\">\n",
    "Note: make sure when adding arrays that you are actually working with arrays, because if you try to add two lists, you will *not* get an error. Instead, the lists will be concatenated:\n",
    "</div>"
   ]
  },
  {
   "cell_type": "code",
   "execution_count": 23,
   "metadata": {
    "collapsed": false,
    "jupyter": {
     "outputs_hidden": false
    },
    "nbgrader": {}
   },
   "outputs": [
    {
     "data": {
      "text/plain": [
       "[1, 2, 3, 4, 5, 6, 7, 8, 9, 10]"
      ]
     },
     "execution_count": 23,
     "metadata": {},
     "output_type": "execute_result"
    }
   ],
   "source": [
    "list_a + list_b"
   ]
  },
  {
   "cell_type": "markdown",
   "metadata": {
    "nbgrader": {}
   },
   "source": [
    "Just as when we are working with a single array, we can add, subtract, divide, multiply, etc. several arrays together:"
   ]
  },
  {
   "cell_type": "code",
   "execution_count": 24,
   "metadata": {
    "collapsed": false,
    "jupyter": {
     "outputs_hidden": false
    },
    "nbgrader": {}
   },
   "outputs": [
    {
     "name": "stdout",
     "output_type": "stream",
     "text": [
      "Subtraction: \t[-5 -5 -5 -5 -5]\n",
      "Multiplication:\t[ 6 14 24 36 50]\n",
      "Exponent: \t[      1     128    6561  262144 9765625]\n",
      "Division: \t[0.16666667 0.28571429 0.375      0.44444444 0.5       ]\n"
     ]
    }
   ],
   "source": [
    "print(\"Subtraction: \\t\" + str(array_a - array_b))\n",
    "print(\"Multiplication:\\t\" + str(array_a * array_b))\n",
    "print(\"Exponent: \\t\" + str(array_a ** array_b))\n",
    "print(\"Division: \\t\" + str(array_a / array_b))"
   ]
  },
  {
   "cell_type": "markdown",
   "metadata": {
    "nbgrader": {}
   },
   "source": [
    "## Creating and modifying arrays"
   ]
  },
  {
   "cell_type": "markdown",
   "metadata": {
    "nbgrader": {}
   },
   "source": [
    "One thing that you can do with lists that you *cannot* do with NumPy arrays is adding and removing elements. For example, I can create a list and then add elements to it with `append`:"
   ]
  },
  {
   "cell_type": "code",
   "execution_count": 25,
   "metadata": {
    "collapsed": false,
    "jupyter": {
     "outputs_hidden": false
    },
    "nbgrader": {}
   },
   "outputs": [
    {
     "data": {
      "text/plain": [
       "[7, 2]"
      ]
     },
     "execution_count": 25,
     "metadata": {},
     "output_type": "execute_result"
    }
   ],
   "source": [
    "mylist = []\n",
    "mylist.append(7)\n",
    "mylist.append(2)\n",
    "mylist"
   ]
  },
  {
   "cell_type": "markdown",
   "metadata": {
    "nbgrader": {}
   },
   "source": [
    "However, you *cannot* do this with NumPy arrays. If you tried to run the following code, for example:\n",
    "\n",
    "```python\n",
    "myarray = np.array([])\n",
    "myarray.append(7)\n",
    "```\n",
    "\n",
    "You'd get an error like this:\n",
    "\n",
    "```\n",
    "---------------------------------------------------------------------------\n",
    "AttributeError                            Traceback (most recent call last)\n",
    "<ipython-input-25-0017a7f2667c> in <module>()\n",
    "      1 myarray = np.array([])\n",
    "----> 2 myarray.append(7)\n",
    "\n",
    "AttributeError: 'numpy.ndarray' object has no attribute 'append'\n",
    "```"
   ]
  },
  {
   "cell_type": "markdown",
   "metadata": {
    "nbgrader": {}
   },
   "source": [
    "<div class=\"alert alert-info\">To create a NumPy array, you must create an array with the correct shape <i>from the beginning</i>. However, the array doesn't have to have all the correct values from the very beginning: these you can fill in later.</div>"
   ]
  },
  {
   "cell_type": "markdown",
   "metadata": {
    "nbgrader": {}
   },
   "source": [
    "There are a few ways to create a new array with a particular size:\n",
    "\n",
    "* `np.empty(size)` -- creates an empty array of size `size`\n",
    "* `np.zeros(size)` -- creates an array of size `size` and sets all the elements to zero\n",
    "* `np.ones(size)` -- creates an array of size `size` and sets all the elements to one\n",
    "\n",
    "So the way that we would create an array like the list above is:"
   ]
  },
  {
   "cell_type": "code",
   "execution_count": 26,
   "metadata": {
    "collapsed": false,
    "jupyter": {
     "outputs_hidden": false
    },
    "nbgrader": {}
   },
   "outputs": [
    {
     "data": {
      "text/plain": [
       "array([7., 2.])"
      ]
     },
     "execution_count": 26,
     "metadata": {},
     "output_type": "execute_result"
    }
   ],
   "source": [
    "myarray = np.empty(2) # create an array of size 2\n",
    "myarray[0] = 7\n",
    "myarray[1] = 2\n",
    "myarray"
   ]
  },
  {
   "cell_type": "markdown",
   "metadata": {
    "nbgrader": {}
   },
   "source": [
    "<div class=\"alert alert-info\">\n",
    "Another very useful function for creating arrays is <code>np.arange</code>, which will create an array containing a sequence of numbers (it is very similar to the built-in <code>range</code> or <code>xrange</code> functions in Python).\n",
    "</div>"
   ]
  },
  {
   "cell_type": "markdown",
   "metadata": {
    "nbgrader": {}
   },
   "source": [
    "Here are a few examples of using `np.arange`. Try playing around with them and make sure you understand how it works:"
   ]
  },
  {
   "cell_type": "code",
   "execution_count": 27,
   "metadata": {
    "collapsed": false,
    "jupyter": {
     "outputs_hidden": false
    },
    "nbgrader": {}
   },
   "outputs": [
    {
     "data": {
      "text/plain": [
       "array([0, 1, 2])"
      ]
     },
     "execution_count": 27,
     "metadata": {},
     "output_type": "execute_result"
    }
   ],
   "source": [
    "# create an array of numbers from 0 to 3\n",
    "np.arange(3)"
   ]
  },
  {
   "cell_type": "code",
   "execution_count": 28,
   "metadata": {
    "collapsed": false,
    "jupyter": {
     "outputs_hidden": false
    },
    "nbgrader": {}
   },
   "outputs": [
    {
     "data": {
      "text/plain": [
       "array([1, 2, 3, 4])"
      ]
     },
     "execution_count": 28,
     "metadata": {},
     "output_type": "execute_result"
    }
   ],
   "source": [
    "# create an array of numbers from 1 to 5\n",
    "np.arange(1, 5)"
   ]
  },
  {
   "cell_type": "code",
   "execution_count": 29,
   "metadata": {
    "collapsed": false,
    "jupyter": {
     "outputs_hidden": false
    },
    "nbgrader": {}
   },
   "outputs": [
    {
     "data": {
      "text/plain": [
       "array([2, 5, 8])"
      ]
     },
     "execution_count": 29,
     "metadata": {},
     "output_type": "execute_result"
    }
   ],
   "source": [
    "# create an array of every third number between 2 and 10\n",
    "np.arange(2, 10, 3)"
   ]
  },
  {
   "cell_type": "code",
   "execution_count": 30,
   "metadata": {
    "collapsed": false,
    "jupyter": {
     "outputs_hidden": false
    },
    "nbgrader": {}
   },
   "outputs": [
    {
     "data": {
      "text/plain": [
       "array([0.1, 0.2, 0.3, 0.4, 0.5, 0.6, 0.7, 0.8, 0.9, 1. ])"
      ]
     },
     "execution_count": 30,
     "metadata": {},
     "output_type": "execute_result"
    }
   ],
   "source": [
    "# create an array of numbers between 0.1 and 1.1 spaced by 0.1\n",
    "np.arange(0.1, 1.1, 0.1)"
   ]
  },
  {
   "cell_type": "markdown",
   "metadata": {
    "nbgrader": {}
   },
   "source": [
    "## \"Vectorized\" computations"
   ]
  },
  {
   "cell_type": "markdown",
   "metadata": {
    "nbgrader": {}
   },
   "source": [
    "Another very useful thing about NumPy is that it comes with many so-called \"vectorized\" operations. A vectorized operation (or computation) works across the entire array. For example, let's say we want to add together all the numbers in a list. In regular Python, we might do it like this:"
   ]
  },
  {
   "cell_type": "code",
   "execution_count": 31,
   "metadata": {
    "collapsed": false,
    "jupyter": {
     "outputs_hidden": false
    },
    "nbgrader": {}
   },
   "outputs": [
    {
     "data": {
      "text/plain": [
       "42"
      ]
     },
     "execution_count": 31,
     "metadata": {},
     "output_type": "execute_result"
    }
   ],
   "source": [
    "mylist = [3, 6, 1, 10, 22]\n",
    "total = 0\n",
    "for number in mylist:\n",
    "    total += number\n",
    "total"
   ]
  },
  {
   "cell_type": "markdown",
   "metadata": {
    "nbgrader": {}
   },
   "source": [
    "Using NumPy arrays, we can just use the `np.sum` function:"
   ]
  },
  {
   "cell_type": "code",
   "execution_count": 32,
   "metadata": {
    "collapsed": false,
    "jupyter": {
     "outputs_hidden": false
    },
    "nbgrader": {}
   },
   "outputs": [
    {
     "data": {
      "text/plain": [
       "42"
      ]
     },
     "execution_count": 32,
     "metadata": {},
     "output_type": "execute_result"
    }
   ],
   "source": [
    "# you can also just do np.sum(mylist) -- it converts it to an\n",
    "# array for you!\n",
    "myarray = np.array(mylist)\n",
    "np.sum(myarray)"
   ]
  },
  {
   "cell_type": "markdown",
   "metadata": {
    "nbgrader": {}
   },
   "source": [
    "<div class=\"alert alert-info\">\n",
    "There are many other vectorized computations that you can do on NumPy arrays, including multiplication (<code>np.prod</code>), mean (<code>np.mean</code>), and variance (<code>np.var</code>). They all act essentially the same way as <code>np.sum</code> -- give the function an array, and it computes the relevant function across all the elements in the array.\n",
    "</div>"
   ]
  },
  {
   "cell_type": "markdown",
   "metadata": {
    "nbgrader": {}
   },
   "source": [
    "### Exercise: Euclidean distance (2 points)"
   ]
  },
  {
   "cell_type": "markdown",
   "metadata": {
    "nbgrader": {}
   },
   "source": [
    "Recall that the Euclidean distance $d$ is given by the following equation:\n",
    "\n",
    "$$\n",
    "d(a, b) = \\sqrt{\\sum_{i=1}^N (a_i - b_i) ^ 2}\n",
    "$$\n",
    "\n",
    "In NumPy, this is a fairly simple computation because we can rely on array computations and the `np.sum` function to do all the heavy lifting for us."
   ]
  },
  {
   "attachments": {},
   "cell_type": "markdown",
   "metadata": {
    "nbgrader": {}
   },
   "source": [
    "<div class=\"alert alert-success\">\n",
    "Complete the function <code>euclidean_distance</code> below to compute $d(a,b)$, as given by the equation above. Note that you can compute the square root using <code>np.sqrt</code>.\n",
    "</div>"
   ]
  },
  {
   "cell_type": "code",
   "execution_count": 33,
   "metadata": {
    "collapsed": false,
    "deletable": false,
    "jupyter": {
     "outputs_hidden": false
    },
    "nbgrader": {
     "checksum": "2a3d7a8cdc2eb03a2cf8fe96d5151f69",
     "grade_id": "euclidean_distance",
     "solution": true
    }
   },
   "outputs": [],
   "source": [
    "def euclidean_distance(a, b):\n",
    "    \"\"\"Computes the Euclidean distance between a and b.\n",
    "    \n",
    "    Hint: your solution can be done in a single line of code!\n",
    "    \n",
    "    Parameters\n",
    "    ----------\n",
    "    a, b : numpy arrays or scalars with the same size\n",
    "    \n",
    "    Returns\n",
    "    -------\n",
    "    the Euclidean distance between a and b\n",
    "    \n",
    "    \"\"\"\n",
    "    dist = np.sqrt(np.sum((a-b)**2))\n",
    "\n",
    "    return dist"
   ]
  },
  {
   "cell_type": "markdown",
   "metadata": {
    "nbgrader": {}
   },
   "source": [
    "<div class=\"alert alert-warning\">Remember that you need to execute the cell above (with your definition of <code>euclidean_distance</code>), and then run the cell below to check your answer. If you make changes to the cell with your answer, you will need to <i>first</i> re-run that cell, and <i>then</i> re-run the test cell to check your answer again.</div>\n",
    "\n",
    "## Problem 1\n",
    "\n",
    "Show that for a=[0 3 0] and b=[4 0 0], the euclidean distance is 5. "
   ]
  },
  {
   "cell_type": "code",
   "execution_count": 34,
   "metadata": {
    "collapsed": false,
    "deletable": false,
    "jupyter": {
     "outputs_hidden": false
    },
    "nbgrader": {
     "checksum": "9871b9105436729a0515c59ee0198be5",
     "grade": true,
     "grade_id": "test_euclidean_distance",
     "points": "2"
    }
   },
   "outputs": [
    {
     "name": "stdout",
     "output_type": "stream",
     "text": [
      "5.0\n"
     ]
    }
   ],
   "source": [
    "a = np.array([0,3,0])\n",
    "b = np.array([4,0,0 ])\n",
    "\n",
    "print(euclidean_distance(a,b))"
   ]
  },
  {
   "cell_type": "markdown",
   "metadata": {
    "nbgrader": {}
   },
   "source": [
    "## Creating multidimensional arrays"
   ]
  },
  {
   "cell_type": "markdown",
   "metadata": {
    "nbgrader": {}
   },
   "source": [
    "Previously, we saw that functions like `np.zeros` or `np.ones` could be used to create a 1-D array. We can also use them to create N-D arrays. Rather than passing an integer as the first argument, we pass a list or tuple with the *shape* of the array that we want. For example, to create a $3\\times 4$ array of zeros:"
   ]
  },
  {
   "cell_type": "code",
   "execution_count": 35,
   "metadata": {
    "collapsed": false,
    "jupyter": {
     "outputs_hidden": false
    },
    "nbgrader": {}
   },
   "outputs": [
    {
     "data": {
      "text/plain": [
       "array([[0., 0., 0., 0.],\n",
       "       [0., 0., 0., 0.],\n",
       "       [0., 0., 0., 0.]])"
      ]
     },
     "execution_count": 35,
     "metadata": {},
     "output_type": "execute_result"
    }
   ],
   "source": [
    "arr = np.zeros((3, 4))\n",
    "arr"
   ]
  },
  {
   "cell_type": "markdown",
   "metadata": {
    "nbgrader": {}
   },
   "source": [
    "<div class=\"alert alert-info\">\n",
    "The *shape* of the array is a very important concept. You can always get the shape of an array by accessing its <code>shape</code> attribute:\n",
    "</div>"
   ]
  },
  {
   "cell_type": "code",
   "execution_count": 36,
   "metadata": {
    "collapsed": false,
    "jupyter": {
     "outputs_hidden": false
    },
    "nbgrader": {}
   },
   "outputs": [
    {
     "data": {
      "text/plain": [
       "(3, 4)"
      ]
     },
     "execution_count": 36,
     "metadata": {},
     "output_type": "execute_result"
    }
   ],
   "source": [
    "arr.shape"
   ]
  },
  {
   "cell_type": "markdown",
   "metadata": {
    "nbgrader": {}
   },
   "source": [
    "Note that for 1-D arrays, the shape returned by the `shape` attribute is still a tuple, even though it only has a length of one:"
   ]
  },
  {
   "cell_type": "code",
   "execution_count": 37,
   "metadata": {
    "collapsed": false,
    "jupyter": {
     "outputs_hidden": false
    },
    "nbgrader": {}
   },
   "outputs": [
    {
     "data": {
      "text/plain": [
       "(3,)"
      ]
     },
     "execution_count": 37,
     "metadata": {},
     "output_type": "execute_result"
    }
   ],
   "source": [
    "np.zeros(3).shape"
   ]
  },
  {
   "cell_type": "markdown",
   "metadata": {
    "nbgrader": {}
   },
   "source": [
    "This also means that we can *create* 1-D arrays by passing a length one tuple. Thus, the following two arrays are identical:"
   ]
  },
  {
   "cell_type": "code",
   "execution_count": 38,
   "metadata": {
    "collapsed": false,
    "jupyter": {
     "outputs_hidden": false
    },
    "nbgrader": {}
   },
   "outputs": [
    {
     "data": {
      "text/plain": [
       "array([0., 0., 0.])"
      ]
     },
     "execution_count": 38,
     "metadata": {},
     "output_type": "execute_result"
    }
   ],
   "source": [
    "np.zeros((3,))"
   ]
  },
  {
   "cell_type": "code",
   "execution_count": 39,
   "metadata": {
    "collapsed": false,
    "jupyter": {
     "outputs_hidden": false
    },
    "nbgrader": {}
   },
   "outputs": [
    {
     "data": {
      "text/plain": [
       "array([0., 0., 0.])"
      ]
     },
     "execution_count": 39,
     "metadata": {},
     "output_type": "execute_result"
    }
   ],
   "source": [
    "np.zeros(3)"
   ]
  },
  {
   "cell_type": "markdown",
   "metadata": {
    "nbgrader": {}
   },
   "source": [
    "<div class=\"alert alert-danger\">There is a warning that goes with this, however: be careful to always use tuples to specify the shape when you are creating multidimensional arrays. For example, to create an array of zeros with shape <code>(3, 4)</code>, we <b>must</b> use <code>np.zeros((3, 4))</code>. The following <b>will not work</b>:</div>\n",
    "\n",
    "```python\n",
    "np.zeros(3, 4)\n",
    "```\n",
    "\n",
    "It will give an error like this:\n",
    "\n",
    "```\n",
    "---------------------------------------------------------------------------\n",
    "TypeError                                 Traceback (most recent call last)\n",
    "<ipython-input-39-06beb765944a> in <module>()\n",
    "----> 1 np.zeros(3, 4)\n",
    "\n",
    "TypeError: data type not understood\n",
    "```\n",
    "\n",
    "This is because the second argument to `np.zeros` is the data type, so numpy thinks you are trying to create an array of zeros with shape `(3,)` and datatype `4`. It (understandably) doesn't know what you mean by a datatype of `4`, and so throws an error."
   ]
  },
  {
   "cell_type": "markdown",
   "metadata": {
    "nbgrader": {}
   },
   "source": [
    "<div class=\"alert alert-info\">\n",
    "Another important concept is the <i>size</i> of the array -- in other words, how many elements are in it. This is equivalent to the length of the array, for 1-D arrays, but not for multidimensional arrays. You can also see the total size of the array with the <code>size</code> attribute:\n",
    "</div>"
   ]
  },
  {
   "cell_type": "code",
   "execution_count": 40,
   "metadata": {
    "collapsed": false,
    "jupyter": {
     "outputs_hidden": false
    },
    "nbgrader": {}
   },
   "outputs": [
    {
     "data": {
      "text/plain": [
       "12"
      ]
     },
     "execution_count": 40,
     "metadata": {},
     "output_type": "execute_result"
    }
   ],
   "source": [
    "arr = np.zeros((3, 4))\n",
    "arr.size"
   ]
  },
  {
   "cell_type": "markdown",
   "metadata": {
    "nbgrader": {}
   },
   "source": [
    "We can also create arrays and then reshape them into any shape, provided the new array has the same size as the old array:"
   ]
  },
  {
   "cell_type": "code",
   "execution_count": 41,
   "metadata": {
    "collapsed": false,
    "jupyter": {
     "outputs_hidden": false
    },
    "nbgrader": {}
   },
   "outputs": [
    {
     "data": {
      "text/plain": [
       "array([[ 0,  1,  2,  3],\n",
       "       [ 4,  5,  6,  7],\n",
       "       [ 8,  9, 10, 11],\n",
       "       [12, 13, 14, 15],\n",
       "       [16, 17, 18, 19],\n",
       "       [20, 21, 22, 23],\n",
       "       [24, 25, 26, 27],\n",
       "       [28, 29, 30, 31]])"
      ]
     },
     "execution_count": 41,
     "metadata": {},
     "output_type": "execute_result"
    }
   ],
   "source": [
    "arr = np.arange(32).reshape((8, 4))\n",
    "arr"
   ]
  },
  {
   "cell_type": "markdown",
   "metadata": {
    "nbgrader": {}
   },
   "source": [
    "## Accessing and modifying multidimensional array elements"
   ]
  },
  {
   "cell_type": "markdown",
   "metadata": {
    "nbgrader": {}
   },
   "source": [
    "To access or set individual elements of the array, we can index with a sequence of numbers:"
   ]
  },
  {
   "cell_type": "code",
   "execution_count": 42,
   "metadata": {
    "collapsed": false,
    "jupyter": {
     "outputs_hidden": false
    },
    "nbgrader": {}
   },
   "outputs": [
    {
     "data": {
      "text/plain": [
       "array([[ 0,  1,  0,  3],\n",
       "       [ 4,  5,  6,  7],\n",
       "       [ 8,  9, 10, 11],\n",
       "       [12, 13, 14, 15],\n",
       "       [16, 17, 18, 19],\n",
       "       [20, 21, 22, 23],\n",
       "       [24, 25, 26, 27],\n",
       "       [28, 29, 30, 31]])"
      ]
     },
     "execution_count": 42,
     "metadata": {},
     "output_type": "execute_result"
    }
   ],
   "source": [
    "# set the 3rd element in the 1st row to 0\n",
    "arr[0, 2] = 0\n",
    "arr"
   ]
  },
  {
   "cell_type": "markdown",
   "metadata": {
    "nbgrader": {}
   },
   "source": [
    "We can also access the element on it's own, without having the equals sign and the stuff to the right of it:"
   ]
  },
  {
   "cell_type": "code",
   "execution_count": 43,
   "metadata": {
    "collapsed": false,
    "jupyter": {
     "outputs_hidden": false
    },
    "nbgrader": {}
   },
   "outputs": [
    {
     "data": {
      "text/plain": [
       "0"
      ]
     },
     "execution_count": 43,
     "metadata": {},
     "output_type": "execute_result"
    }
   ],
   "source": [
    "arr[0, 2]"
   ]
  },
  {
   "cell_type": "markdown",
   "metadata": {
    "nbgrader": {}
   },
   "source": [
    "We frequently will want to access ranges of elements. In NumPy, the first dimension (or *axis*) corresponds to the rows of the array, and the second axis corresponds to the columns. For example, to look at the first row of the array:"
   ]
  },
  {
   "cell_type": "code",
   "execution_count": 44,
   "metadata": {
    "collapsed": false,
    "jupyter": {
     "outputs_hidden": false
    },
    "nbgrader": {}
   },
   "outputs": [
    {
     "data": {
      "text/plain": [
       "array([0, 1, 0, 3])"
      ]
     },
     "execution_count": 44,
     "metadata": {},
     "output_type": "execute_result"
    }
   ],
   "source": [
    "# the first row\n",
    "arr[0]"
   ]
  },
  {
   "cell_type": "markdown",
   "metadata": {
    "nbgrader": {}
   },
   "source": [
    "To look at columns, we use the following syntax:"
   ]
  },
  {
   "cell_type": "code",
   "execution_count": 45,
   "metadata": {
    "collapsed": false,
    "jupyter": {
     "outputs_hidden": false
    },
    "nbgrader": {}
   },
   "outputs": [
    {
     "data": {
      "text/plain": [
       "array([ 1,  5,  9, 13, 17, 21, 25, 29])"
      ]
     },
     "execution_count": 45,
     "metadata": {},
     "output_type": "execute_result"
    }
   ],
   "source": [
    "# the second column\n",
    "arr[:, 1]"
   ]
  },
  {
   "cell_type": "markdown",
   "metadata": {
    "nbgrader": {}
   },
   "source": [
    "The colon in the first position essentially means \"select from every row\". So, we can interpret `arr[:, 1]` as meaning \"take the second element of every row\", or simply \"take the second column\".\n",
    "\n",
    "Using this syntax, we can select whole regions of an array. For example:"
   ]
  },
  {
   "cell_type": "code",
   "execution_count": 46,
   "metadata": {
    "collapsed": false,
    "jupyter": {
     "outputs_hidden": false
    },
    "nbgrader": {}
   },
   "outputs": [
    {
     "data": {
      "text/plain": [
       "array([[ 9, 10],\n",
       "       [13, 14],\n",
       "       [17, 18]])"
      ]
     },
     "execution_count": 46,
     "metadata": {},
     "output_type": "execute_result"
    }
   ],
   "source": [
    "# select a rectangular region from the array\n",
    "arr[2:5, 1:3]"
   ]
  },
  {
   "cell_type": "markdown",
   "metadata": {
    "nbgrader": {}
   },
   "source": [
    "<div class=\"alert alert-warning\">Note: be careful about setting modifying an array if what you really want is a <i>copy</i> of an array. Remember that in Python, variables are really just pointers to objects.</div>"
   ]
  },
  {
   "cell_type": "markdown",
   "metadata": {
    "nbgrader": {}
   },
   "source": [
    "For example, if I want to create a second array that mutliples every other value in `arr` by two, the following code will work but will have unexpected consequences:"
   ]
  },
  {
   "cell_type": "code",
   "execution_count": 47,
   "metadata": {
    "collapsed": false,
    "jupyter": {
     "outputs_hidden": false
    },
    "nbgrader": {}
   },
   "outputs": [
    {
     "name": "stdout",
     "output_type": "stream",
     "text": [
      "arr:  [ 0  1  4  3  8  5 12  7 16  9]\n",
      "arr2: [ 0  1  4  3  8  5 12  7 16  9]\n"
     ]
    }
   ],
   "source": [
    "arr = np.arange(10)\n",
    "arr2 = arr\n",
    "arr2[::2] = arr2[::2] * 2\n",
    "print(\"arr:  \" + str(arr))\n",
    "print(\"arr2: \" + str(arr2))"
   ]
  },
  {
   "cell_type": "markdown",
   "metadata": {
    "nbgrader": {}
   },
   "source": [
    "Note that `arr` and `arr2` both have the same values! This is because the line `arr2 = arr` doesn't actually copy the array: it just makes another pointer to the same object. To truly copy the array, we need to use the `.copy()` method:"
   ]
  },
  {
   "cell_type": "code",
   "execution_count": 48,
   "metadata": {
    "collapsed": false,
    "jupyter": {
     "outputs_hidden": false
    },
    "nbgrader": {}
   },
   "outputs": [
    {
     "name": "stdout",
     "output_type": "stream",
     "text": [
      "arr:  [0 1 2 3 4 5 6 7 8 9]\n",
      "arr2: [ 0  1  4  3  8  5 12  7 16  9]\n"
     ]
    }
   ],
   "source": [
    "arr = np.arange(10)\n",
    "arr2 = arr.copy()\n",
    "arr2[::2] = arr2[::2] * 2\n",
    "print(\"arr:  \" + str(arr))\n",
    "print(\"arr2: \" + str(arr2))"
   ]
  },
  {
   "cell_type": "markdown",
   "metadata": {
    "nbgrader": {}
   },
   "source": [
    "## Problem 2: Border\n",
    "\n",
    "\n",
    "Write a function to create a 2D array of arbitrary shape. This array should have all zero values, except for the elements around the border (i.e., the first and last rows, and the first and last columns), which should have a value of one."
   ]
  },
  {
   "cell_type": "code",
   "execution_count": 49,
   "metadata": {
    "deletable": false,
    "nbgrader": {
     "checksum": "962d91ecb5d9812898959fa2564e1be9",
     "grade_id": "border",
     "solution": true
    }
   },
   "outputs": [],
   "source": [
    "def border(n, m):\n",
    "    \"\"\"Creates an array with shape (n, m) that is all zeros\n",
    "    except for the border (i.e., the first and last rows and\n",
    "    columns), which should be filled with ones.\n",
    "\n",
    "    Hint: you should be able to do this in three lines\n",
    "    (including the return statement)\n",
    "\n",
    "    Parameters\n",
    "    ----------\n",
    "    n, m: int\n",
    "        Number of rows and number of columns\n",
    "\n",
    "    Returns\n",
    "    -------\n",
    "    numpy array with shape (n, m)\n",
    "\n",
    "    \"\"\"\n",
    "    array = np.zeros((n,m))\n",
    "    array[:,0] = 1\n",
    "    array[0,:] = 1\n",
    "    array[-1,:] = 1\n",
    "    array[:,-1] = 1\n",
    "    return array"
   ]
  },
  {
   "cell_type": "code",
   "execution_count": 50,
   "metadata": {
    "collapsed": false,
    "deletable": false,
    "jupyter": {
     "outputs_hidden": false
    },
    "nbgrader": {
     "checksum": "c8b6a11c5dd3aaed6aaa4bc0c2803017",
     "grade": true,
     "grade_id": "test_border",
     "points": "2",
     "solution": false
    }
   },
   "outputs": [
    {
     "data": {
      "text/plain": [
       "array([[1., 1., 1., 1., 1., 1., 1., 1., 1.],\n",
       "       [1., 0., 0., 0., 0., 0., 0., 0., 1.],\n",
       "       [1., 0., 0., 0., 0., 0., 0., 0., 1.],\n",
       "       [1., 0., 0., 0., 0., 0., 0., 0., 1.],\n",
       "       [1., 0., 0., 0., 0., 0., 0., 0., 1.],\n",
       "       [1., 0., 0., 0., 0., 0., 0., 0., 1.],\n",
       "       [1., 0., 0., 0., 0., 0., 0., 0., 1.],\n",
       "       [1., 0., 0., 0., 0., 0., 0., 0., 1.],\n",
       "       [1., 1., 1., 1., 1., 1., 1., 1., 1.]])"
      ]
     },
     "execution_count": 50,
     "metadata": {},
     "output_type": "execute_result"
    }
   ],
   "source": [
    "border(9,9)"
   ]
  },
  {
   "cell_type": "markdown",
   "metadata": {},
   "source": [
    "## Problem 3\n",
    "\n",
    "Below a 2D array, `A88` is created that reshapes the integers 1 through 64 into\n",
    "an $8\\times8$ array. Create a new 1-D array that only contains the last\n",
    "column of `a8` e.g. `[8, 16, 24, 32, 40, 48, 56, 64]`. "
   ]
  },
  {
   "cell_type": "code",
   "execution_count": 51,
   "metadata": {},
   "outputs": [
    {
     "name": "stdout",
     "output_type": "stream",
     "text": [
      "[ 8 16 24 32 40 48 56 64]\n"
     ]
    }
   ],
   "source": [
    "A88 = np.arange(1,65).reshape(8,8)\n",
    "a8 = A88[:,-1]\n",
    "print(a8)"
   ]
  },
  {
   "cell_type": "markdown",
   "metadata": {},
   "source": [
    "## Vector algebra with Arrays\n",
    "\n",
    "You can represent physics vectors with 1D arrays. If you have a chosen basis set, you can save the components of the vector. Consider the following example, a force, $\\mathbf{F}$, is applied to a an object and it moves one meter along the x-axis. The force has three components, $\\mathbf{F} = 2\\hat{i}+3\\hat{j}+0\\hat{k}~N$. \n",
    "\n",
    "You can determine the work done by the force using [`np.dot`](https://numpy.org/doc/stable/reference/generated/numpy.dot.html) as such"
   ]
  },
  {
   "cell_type": "code",
   "execution_count": 52,
   "metadata": {},
   "outputs": [
    {
     "name": "stdout",
     "output_type": "stream",
     "text": [
      "work done by F is 2 N-m\n"
     ]
    }
   ],
   "source": [
    "F = np.array([2, 3, 0])\n",
    "dx = np.array([1, 0, 0])\n",
    "\n",
    "W = np.dot(F,dx)\n",
    "\n",
    "print('work done by F is {} N-m'.format(W))"
   ]
  },
  {
   "cell_type": "markdown",
   "metadata": {},
   "source": [
    "You can also animate the motion of the object with the applied force. Here, the motion is assumed to travel at a constant speed from $x = 0 - 1~m$. "
   ]
  },
  {
   "cell_type": "code",
   "execution_count": 53,
   "metadata": {},
   "outputs": [],
   "source": [
    "import matplotlib.pyplot as plt\n",
    "\n",
    "from matplotlib import animation, rc\n",
    "from IPython.display import HTML\n"
   ]
  },
  {
   "cell_type": "code",
   "execution_count": 54,
   "metadata": {},
   "outputs": [
    {
     "data": {
      "text/html": [
       "<video width=\"640\" height=\"480\" controls autoplay loop>\n",
       "  <source type=\"video/mp4\" src=\"data:video/mp4;base64,AAAAHGZ0eXBNNFYgAAACAGlzb21pc28yYXZjMQAAAAhmcmVlAABL0m1kYXQAAAKvBgX//6vcRem9\n",
       "5tlIt5Ys2CDZI+7veDI2NCAtIGNvcmUgMTQ2IHIyNTM4IDEyMTM5NmMgLSBILjI2NC9NUEVHLTQg\n",
       "QVZDIGNvZGVjIC0gQ29weWxlZnQgMjAwMy0yMDE1IC0gaHR0cDovL3d3dy52aWRlb2xhbi5vcmcv\n",
       "eDI2NC5odG1sIC0gb3B0aW9uczogY2FiYWM9MSByZWY9MyBkZWJsb2NrPTE6MDowIGFuYWx5c2U9\n",
       "MHgzOjB4MTEzIG1lPWhleCBzdWJtZT03IHBzeT0xIHBzeV9yZD0xLjAwOjAuMDAgbWl4ZWRfcmVm\n",
       "PTEgbWVfcmFuZ2U9MTYgY2hyb21hX21lPTEgdHJlbGxpcz0xIDh4OGRjdD0xIGNxbT0wIGRlYWR6\n",
       "b25lPTIxLDExIGZhc3RfcHNraXA9MSBjaHJvbWFfcXBfb2Zmc2V0PS0yIHRocmVhZHM9MjQgbG9v\n",
       "a2FoZWFkX3RocmVhZHM9MyBzbGljZWRfdGhyZWFkcz0wIG5yPTAgZGVjaW1hdGU9MSBpbnRlcmxh\n",
       "Y2VkPTAgYmx1cmF5X2NvbXBhdD0wIGNvbnN0cmFpbmVkX2ludHJhPTAgYmZyYW1lcz0zIGJfcHly\n",
       "YW1pZD0yIGJfYWRhcHQ9MSBiX2JpYXM9MCBkaXJlY3Q9MSB3ZWlnaHRiPTEgb3Blbl9nb3A9MCB3\n",
       "ZWlnaHRwPTIga2V5aW50PTI1MCBrZXlpbnRfbWluPTI1IHNjZW5lY3V0PTQwIGludHJhX3JlZnJl\n",
       "c2g9MCByY19sb29rYWhlYWQ9NDAgcmM9Y3JmIG1idHJlZT0xIGNyZj0yMy4wIHFjb21wPTAuNjAg\n",
       "cXBtaW49MCBxcG1heD02OSBxcHN0ZXA9NCBpcF9yYXRpbz0xLjQwIGFxPTE6MS4wMACAAAAQ4GWI\n",
       "hAAz//727L4FNf2f0JcRLMXaSnA+KqSAgHc0wAAAAwAAAwAABIRT+ionVsXUeAAAAwJaAJit/hwn\n",
       "7gAbPpQ0iF1/xz5X3Tj4uAXT05yQ41NVaTYytOOVREXUzQzDO8wTZT7bgHeMKy4aUyxg/GvlWnP4\n",
       "evJSVHFv6OC95ArC5BKlZhy+7XP+n3a+FdSGrMvISMtZvRnnS/LZSNdu6cBPbP5bpj+/TrPjA52K\n",
       "UCOJ+eWk638wCVFLNqsIYKxsTBuLPQb3c28ryA9dwm33DJXp/FiRhrKdz1lomvYAAAMAADxB5yP3\n",
       "K7oJNAAAYCtEzmRGNLxws2m1EuY3viuk6COPJP1X7snIZTfX5/tyNQDSYw4FMIlrj4pKrt9NPfyA\n",
       "4A7GbTN9ahiRljigq6j5IN/HOPUvLZgSEnOGzuz+B6usmQ/gbtGu+MSX2nYbrjx1h38xuGoYU5FC\n",
       "1R7AAX9U2KA0oqACQ/QG51cK69G7eOBjfuItzUR1QE7Aq4SQw/tUkFDhZsedkkYc+W492YPFsx7i\n",
       "bMB5Xu9yYf0JCn3/1+p9NGte6FvJUE+EiPB5n1hCVW2d/W7zAzYih2GhcPL9N/nIvYmJ5YRYAFSy\n",
       "4JX4642wyfVEHEmpSH23LT8iE0ZisJdm/GA5NgpCidkYdOgB+dCCOai99JFTjejo/x8ZNyWLMWst\n",
       "yg/tqsMa6NYG8WM4nPOz6eMxdpxlIkD3GLUHYKyvdBmMwt3+Oy2b1uzCYs0kxI/hphdkkADXOdtp\n",
       "8AKtmhJOJsLL/Uw2NkX3k5I2+P+V1OF7iJW3Gz5Vq/iP/4QD5uzyTlmmW/5gIhK3rf1yrYyIvIiz\n",
       "qxB/kiSU7OBPWdNH7n86XCTsxtpYXcmu6NQ1khtw1PXzYaOfnZkGn5DO2w5Vo/Hte8CkkyF1hkl9\n",
       "3O4z3dLtYYQ+ijiYjVBWdj3+x2gTjCwkUW1XoFjMC/YP/ll+Eutue83S+PzrephXq6a1b8UCHiCU\n",
       "nDAAXcZ/aENj/qofMYDGRkb+9UmBpTVL6e4chJn2CR4t2AFy41+xFv2T0QP7DT3bEnYkULbLj92V\n",
       "9e4XJJlkoTurTmxrOULKjgIwne7Tp0OSaZc7FtyZL1FG6XMQlt2gstF3us716ibbYtUEqYrtWed9\n",
       "3zFbsyzddAa/BQsMZ6xb47PDYLzKsljZXdHIVV7iRS/S5Q3cgXEDUllsHS3B2OBHgALSnaUAC9a4\n",
       "YO92TEbDUpe67CVJd8yugYdkwTm06Uwa9wj9epN9ukFpqHe++X2SW8Vt+FkF2KlLMbNBvnKQ9kec\n",
       "v1dbMdTFNryCdOe7MbfJoHhc85tfoClSp7y7hyR2ebMrZX8BjK5rv5NRu13JlNgC/mTbZyblPHql\n",
       "u7lj2DXug9uyeQNq8kRbz5jB36zsPMFW0fkeZB9MUv6NuU2+dOpb7ZL1HQCgH/yC1WIoK0T2o1FC\n",
       "c6RcoGDgCcdRImQ/sSxTh6/mAXo1nU5gZPT8zdfbxBpYYWwgfWHPeqf4qxKulygUt1kTxxlPkU3P\n",
       "23L9/EBluQrpTCJPpCXkifDxbif3Nu14Sr8ZhzIGKmtGVuQpBi06JUtzxEpgX3VsbGO6x/LOGE66\n",
       "CI+rKRqcavxUhTRuM1FDh8AwTu6fyADQZXmo8V9Abq/EEzC8BwMYPN/y3koUQe8jgh0PAayRNO7Z\n",
       "8U8d8hfqwRuMT4EByAACw2y6kbbRo2kiMUsrrhrGB34UQjly2KPysZsKvPiZAYA24bEp+Ebs+LuA\n",
       "F9VP3Lpc1BU+JRyYjF6BLS2adeD7ZshzCK/ZpcGt4HWf3zoq/PXao12hHluo3BtnywC0s94L34EA\n",
       "iFQ8Wr9tJcET3VKdnEFzdl6zg7SUoDT7zBfBx4SyCd3NkhmngRkZcTudhww0NzokJoucN1jiD/Bl\n",
       "2O2mXpJ7fRtESwbYhZfnAAB3CQPQhXsSeo06Yq9rOqKI8zp9Kt4Xm3AHygKsB5s/ydzDAGDmEUAc\n",
       "m9k/1WB79l8ekZOGIoQMOOHQYxqF9t/vrOzajpg8jnIRYM8qY7kfmiuAgyPyODy4lPxHAZMpyAJk\n",
       "P6GFn1du2AAe0mNiKDFQ9pADQvTl/I5CWZNKjYzqpYIN/JuHxMKod6V7x9wmvWqQtWorHU/6skIf\n",
       "Waq4rd3dW0J6FWNbZyb9y5s+E+em2teNm1ARp64p76WaBrjUy6467L7UtIYtikD0hQuycE0XmjjH\n",
       "SsZnLJiz4Ku0eLEXUOpvP+qGaVxgZB2IfVDBGaOC5aXo7BpfqNk937Vpu6Nh+dgSyxNyfJgIHELs\n",
       "w88xdR6Hlof/Hg4Z5UmBprzQCgMpd45Yga30yQYqPf/MU+xcFrbP/tpu3kZZ7yK3ryQJuI7aGXSz\n",
       "U1lHrAKPsMImwm9nULCw+rCoIFhKFidELpvLLsOzEP3lg9V3reR39PMpemEO9tUtdMUi0sKnLfe/\n",
       "b73t/nWXygAgDjZrXT6hNXHraze1iMI1VaQV8IMNHnQPYbHE0IVj2vvfaYcGFHv8alpixCSU3E8E\n",
       "Ppb0F+Z1Gq06fuYYrvtYJa4P/yt3ElwiIVBpIGJ35dmdkdCLTk9QGp49pM9eX3GFI0NcixT7ElvP\n",
       "HIq+n+JLB62Y4o1rpEtRLAkfzq6WqpIptOLmElDONcGiMNYoWn6I7cOLqMXw0royDObHuxIM1iJk\n",
       "wrGeO5V+BnRaA8DUHuld8NygnYBa/9qvFJULgy9GY3zrA0A04PExClHZiCOpqkQk4b/BRNI+tZjK\n",
       "knQzlIf0AAuQFrz/dA0hkjOCyOPxwBjYgFJ1R7jFRqcu1AaHrsh0YLBuz4/VzOA/sN0A3gItKDCG\n",
       "e2fec9hBeQFid+heE9P+CsY5Bo/xWQs5/kttl8g8/OeoTOpq+pvEfJm5BkffvRVHHburistUojp3\n",
       "THpODQX6FuP3FcCFezh05KCdYmtyiGkaJVp/tBbrSteOhPJvZFsBds85djBPCJFt4F0jD6oENSK5\n",
       "YZFt5Z/BYAxVxGz3AL47cQR3h7HvO039c3pN1BXl7ciLHPzF+ckpRPjrtYkS3tXhSDI1Qo33AfBH\n",
       "ceQKSyqyCfNgW0kI5vFes1mq8TJouMGXp5RqX+KibjcMCTVGE9NcLYXZR+Uv1cIG9CPab/6mVtJ3\n",
       "b3ju+u0bGjPRuHpb3Ivnqw8r7FbaWoKk9RxjOMzr7/Qc3rGIL03tFX8GaMSTQqUzDlZYhX0bTKiX\n",
       "II72VpcoJfTh6FQ0gabKXkrXOkng1m3NEg9daWOXHaqu8Rc1+5zAvYDK91/QQdg6/Pv+kC/NLwba\n",
       "yJ+GvkVErK0KrCMutucSlEJRz3+fS3PCYDDuT9NBLRdROwmcIQIZbWyTcFjs1tIhfTEYKAT1Lhmh\n",
       "6p7+kCz5Wq1Dj8jA8y3X8AgN8Et5Al4dGUn8JcXPaPxOT+Ekyg3K+kzALS7F5Mn5exo21JNpAC0J\n",
       "HpHvPBnyit+5L8JbcMWlwOf3Xv0nlGIwNdX3h70nw/apQUx3plGeO30vzVW4hdx84A9/WYiLT2dv\n",
       "D0EsFonQ90k+AqXTXFcuk3bpshJRLP6FuMMGYWC07Q6Tx3Im3C2W2UcAJT2Hk9zBD+gsm9+odwnv\n",
       "3bm8psLDvjzVf+kOXwmKlKNg5AfUFUu5vtf3QFQreLWtSjL+W9P41W7fqua0QwzHUck0yNCxRuIK\n",
       "czS44TWseuHo0TIOiMjCdplQbp8LWy8BEA5m4ToVewrSTK1PRfs9rJzkYvHnf9VV42WaW5tt+OAG\n",
       "m9F1Q/GeqrkNLzd091SmIAcmtaeYI+U6QKbRxZbLWNRTAkfS2qLfZi/NmbKk7QbnHFPAByvdY4Cz\n",
       "DUIAwOd6dRipUDs2k2aYuDm5Iuss/06KbBWP3gmYYDoW50OPwTAze2DM2tbyq92oRErWal+BzSIK\n",
       "T8Jjr2q6a+Nl/x71e5pMF4qkgOcbMCCx/tvEobrnLenHM/amfULGdcVwGHm3vwS9PKDuSDq6RnvL\n",
       "xIGKW909kLwvgcXQMmmc9RaNPReOWZRm+KPE313EEu/kt4fzFriMHZQ+Pi+fTwm0gCOQDtfBifjO\n",
       "8VhbXgZ/dUG+/qPY2rP4IrKK4CaUQHfmY3LDUziBAmhdm++12A7tJjwf54+rSoDyUTa15Ng4jvMi\n",
       "w8r+qh0kzXilxyjiH7zvZEnyOazvGQV2lTMmB3r29GqHirx9Agc2BvjIR/z76fQB/75kPtwJiDmY\n",
       "V/Mnw8hH7JKeruuIHGlqanEnsTAt1S9Bq0CVyLXntQPMd/xU4TYSa2DDQIKZDN1HLYZJIEa+eAaU\n",
       "KF3+tf9cAfHDhg6d5WosM76NrDAfPIshfQMF0qfEfNqKIahLBgowVjtJVMjknF3OL4H+N5BdclJu\n",
       "hBVSk2kI/ZS5aJbgzKaOywukEf9cyhJEOFd8O4J+ZZTYzYKgX61sTNbzID+hkBsn6KF+EnfdlZkE\n",
       "+iPmfQ9MiC8+t1VfeL/iVVKgVk+WuaO3UUZ1CsABG9VvJ6CkC2h13eS+8s8D7Y+Liy5pt2JIGVcF\n",
       "H1XVcsMrqE+Zu1AqPK171inzOMrJJ/sxMhnhPWosITzCMXH1yRGya9SkqQZjSvsFQ/ebJfp286SH\n",
       "pR0PLqBaFvCqqMmMOyH04yqdTGQWaP71OhKOTTyxq3PMOSZhI5HNIzwqYZFZvFS8Y6blMOc66kcD\n",
       "5ByLPtfMdIqht8SC7qilAC332RMs73AW2LlFpkrWeQbJ4qaman2vwUazJNNmdyxEgF7vd08qVEkk\n",
       "Av+cfCRTMc0h1DZjaCObretqBcSR4VdrxCjkPl6Pox6SGMn4xOsTI2vc+gANhxHEzAZ2Sh0LRupE\n",
       "KctzAneozh//3HIqxueelyNQJSQqdIMYae9U7crX9o2Ba8vKAQiCD8XDdNaQM0894XzuTmB5MB0B\n",
       "Np9rL/9vwooOs5fD+aSXBQPA2mSiaHTOt3yN+WtSSBhmzXHpqgUdSBQtD2ggbImTQCKLBgvNg8zV\n",
       "oGo/9BLzdDQYSIQ9Bfiv3r7x2rG3SPUaXsmU02rzbwu/zFlLxPCov3DnRVPhY+GskH8qtf/X8BUs\n",
       "XP4nWiIhKmL5BhGHiYo//zRWdJ6sKYezCXhWXDbAyRAVTBhRZtNWEEoSJ468EIJjqqvFXIIkWnSY\n",
       "mrZFE4NgV6eQXJm3cpQurOF7uhrRfyKy9h0S0PqHT8VY8C8H9o4CbIES5W5zZafbfTErAykPkNbj\n",
       "ucbh+nidsFbn8cKE7reTdHVNMsjvhwm5LZD8TsPs0rHWnPrAyE35DDIDbnxTTIMEtIzGMXKTXKCU\n",
       "Pb7JNoiwvFAhsP7M9HqYyFQaOOHr1+Ue/FrsCizR7dcROrgKcThkhxR+5Zbk7KV0zUO/vZGdzEsM\n",
       "Cx/Oo64/8OK9RvwLcqcXvOe+/GI860Jd6fiUoIU6SQ7h3KTUifsALbrVWsElH8W9dCE40sq62PQc\n",
       "+rTt7pm1YmpLrHxfUjf1OpZ4lJChKo3uBqffY3mNSfJ/1kxy/q+UorNlehaPksHAncNkb48XrBHL\n",
       "9r+35TS0aZcgAQ9vtJP3lo6OgAhHNIyBwH9HJmu4G1m8Hzwy9Qpa2lSCm1h00mBvM8ymbz2DNx08\n",
       "x4SUWXOCWdTuW4ZS7BSrywoOv5DwuY8TxQjnE5km3qVtaFDuuTftxH2kdx4YLlDGOgegnmeIxgpW\n",
       "BTLwS5wEwVIcfpp3W9Z/LZjOe5fRDBlj2hZX3eBZCpZP3hJb6jwTdFRq6+7eMGJ/H007bBMGF0/o\n",
       "OkjraDdzNWGjWQeTCjg3AFCAmmR6JliAAAQNqzTNQj5yP7ZvggAAAwAqIQAAAlhBmiRsQz/+nhAB\n",
       "NU9rABt5KcZtexwBJum8yNvgNc7BHcuf/oTDsxfI3K9NacSIJRyUWEKu1TrjvZFmrNIfaTzzS9xQ\n",
       "YiILeDX5dO8gRYW6Binnk1ft71TYpab0clrYKEvQvPYyBEMaMmsKIP3Gi106Qt239OKaIc6YcpcC\n",
       "zQr6qbO5ALh0GZejx3H4PItPSTTdimuQOozrK7ZR1h49zM5S/XmMiue1JRtVKjyeEOuEuuUowJ1O\n",
       "ttkWwr/lYKTS6Y2XRLiYMaBuhhfoEHfGx2pACOYI2Im47nhk/gk1Dk87o+cL4Rc2qKWGCdAuXWJs\n",
       "u9LqY8tTx292NeubeRw/HNLuPqio5Kv23LZAqJQkUTc55McQRPOWMCRuwtXY9JAqK+FccXpJTnEi\n",
       "pyfS8YcstiQeZLtO+8Bu8+yGLqwn2+j8/+oZSNlO3UkiZ8Fn7Hr+Tc3em5lRVJl/eYu+ggBYWSlS\n",
       "Chd3sjIuAMwiMQn5DIkDMmE/ozuutVPuwBawfm7Xp1vIi1URUD5gNqDrzZEpLSuTxKyXiCe/uGe+\n",
       "wBSP1Kbt223l2yWyYbNo+qgZ+Bu7db6HbZTfX56TfJTJQxS3cweDiE0wIHToXugaI+Xs7zXtmNCI\n",
       "u+VTndZhODC5ia+1ouge3XEnT4Ulh7WXSgc3z4TuzPBL4KX6Y30mv+b621sIkFLDGmsHpDGL1F+2\n",
       "9bT5lDA/9ZyBV1CzFkSETx9uVYQ4lT+4C0uU27AV+RHZ5Jo9/qVhDGvNB3ebVIR79oj+nISijXcc\n",
       "2mZO5+6CEebLZSmunPV+vJljNdAAAADWQZ5CeIR/AGSKZoDEZl0HFei9n3DI4nSZV85oAAVt9kM+\n",
       "MEUafMkx0OpRkolfk5ATucsiO16ErbuVfDXVQnan7a2Xj+CAZGZFAGh96Y+KOklkwuM0N5O4TCiO\n",
       "M5hL8vUmBge39EdBARg+9jqu81DJK61Jmqo76cyUGqJropZcmnIjyi9WF1h0/6b0XUWdPQ7pbvWA\n",
       "TfKbpBX+d1Sk+cHRuJEF9bOKZ/taDUIzwN5CRZ8CJ7T04BgKesISyvag8JJY/ESXOXNzssBEnjLn\n",
       "9vEcw4+t1iApYQAAAHABnmF0R/8AAAMCS3pr/O8+yuZhtEyxHTehSuKBc+AAEoWRJF/KVgtlM+ie\n",
       "flI6dQFjxq6j2yG4X+9WyV167ZVPYyDQ+HrSG41+FeyfzeFY2KsJUqewqHyEb5juXT53q7ccvN/n\n",
       "Txd8qTj6qt/ZqDPgAAAAcwGeY2pH/wAAAwJMbuiM7UeaADw8sMZpsMjDs3gjxB5Db5xkJ63q2rpe\n",
       "yehaIxg+soafUmzUzTmxNkBHjX3Wmoj0cRdCUc1VafVRgv03AlqwEeDE7fw0a//7UAKLsJ/83+pP\n",
       "Jr8K6YhhlebgXVqSfdIQK2EAAAE6QZpoSahBaJlMCGf//p4QAAAEc4bvp+Zr6IFFBzDnlLDS6MMq\n",
       "hlRDtPRyRHj36ySPD7vgYKDk4m2UBXr1Dd9EiyVQ+4js8e4jwcmJfokkf/6dS5FmD/vaJqxBm3S1\n",
       "SKuG5Ni9ChH1jIGzq09oe676Ts4AsEneqAnz0Y7SotZxRO7pK5oi5qi94rdVbYiOQXZPKejaQyf3\n",
       "ct55s8x6nV2L5FV2w7OsTVqa5oXETykI3VpDRzYM1zCvmsk52/Bo8bjQTGF+6y7P5jt8Dxei6/zO\n",
       "7y2p92xizWV0P6D7q/bT1+eAc0HKVbaaOwJiRX4J8a/BlZQ00onycQa46e5Nl50bHWWPO5WN1sir\n",
       "v1TaX0q4s7dRWLSWF0xkcDv9TBJ6KWAUSUp/sxvVFL3UQIUWCajXAqmbbmCY6oorGpEAAADaQZ6G\n",
       "RREsI/8AAAMBdCxw7WcJKAiwjuF9KbSYuJH4JEb9e7SVSbeAgBVS2KB25VN0wVXK+tX/K9jBdcaq\n",
       "Qk6ZIDAjQH+tRFrQENXHhaBululoOQSjcTvnIVRVXvTHAQxzVJgXv9vC6fz+CWRlj08E07vpY6RG\n",
       "gX+mgiI/GRwcOIuoNszZGR4ozPhd8/Dg/q4yVZKCivm61AJLVdqIXZNdI33yFY5LomepF30ph9CH\n",
       "zRPSRZ2zRLitld6ka8XeW/hMf9s7NJSjeL/YrGhTjMB4X7srsY4N9QLw4oEAAABtAZ6ldEf/AAAD\n",
       "Akt6a/zvQDVKaBj+zljwvrtwToIgd2cSIppZSlqyh9dZQKgIMAyYfJ8PPhoSiHoxiUy1lT2VLsgb\n",
       "UOpBon7pGdEkwNRGqATHxX2VbgAajRG9nqBanhWPwiJBR4mwKJfRd5AJiQAAAGQBnqdqR/8AAAMC\n",
       "StcnLdSqV2XHpQM3kPkLplX00/1PfP/E+pCrZbx2yfvMiTnszcqSkhQAZqsx/CT1lX6fFGuzyqop\n",
       "kD6adWL137+W3OaF8wMmCnc/yRK3im7++Sh8tK/oIhDwAAABmkGarEmoQWyZTAhn//6eEAAABHum\n",
       "5SnwhDTcgAz9930Ry44TrXjw2IjseAjlqj27UjeVa5szCX+sNzrMwLeKHrEzQxzRTez8mVC4Dopc\n",
       "aJBw7Wye5TVvX6uFrbTLnWMzutGAVInECFRgwvoa4f8U/6CoZI6QqH1EfcRVjJJuEcQRDa1nRGXT\n",
       "OrFngqw3W9RwTUTiluVJJFv9paySIuhOOxunpMSao8STP/b7zCZuFx+fdUqw0Y2+irsByv8Cl7Yw\n",
       "OyczyaqZtXsRfgeA2NMSmrL4ZSW4DAxO0/9wWSm+Sd98F2gKFxF7BnFrg1b97aTOZ5Mz0VXu75yP\n",
       "umqZlKcibGUyadODRoTYeyhu6UzceU/6S0v3w/4wz2LrJ6/jqTs6a7eo4SmH8lHGhYemqkOOAp03\n",
       "m7qmLiptNRQiB03yHxXJuQ0NFpbnfce04krcMv72bPa6rewP1w/34BBVZOZFZTVMy34OPgAMUPPW\n",
       "lSEHf3x9ddm+NkR3klZvYjICWtx4u5cqFHuQM0ylQFp3hDm3lqms6IDUELFthJaMAAAApEGeykUV\n",
       "LCP/AAADAXPj3uAkxJ9J3XDLfhOrrkJIFwAjAT6zrAb6rXFP0/TnYuHXhs0WEygS3CbYmzDs1ME6\n",
       "UI0XIaC2Fp0gySbSOyuViN9MvG8RQt1gja7R0a7z3dUwGwcicWBdKlvIIdWGqYhiEyfYuJAbWwrT\n",
       "AOMCpzLE+hR8HCvDL3w+5pH2Sgse/IXsSkSwXjCOPcAJTnUQ4rl8YbOioEMXAAAAYQGe6XRH/wAA\n",
       "AwJMAh4R6JEONloHzu5OalHFP6xGwI1bqUUvFxdspnrqv7y8zWyFDHMBYg40KqZrrgWdLR7mTsoo\n",
       "GV2qlJGqeo0MRTzyYEvjvWeCI4lUDvilXEy3mchgd0AAAABkAZ7rakf/AAADAjxu6IztQL3X73CI\n",
       "HjOxAdRXODJPQGYBvNowm5rDFqBwLOJZ5ke4lQDjLqYeiGadJ30S/6Y+jzvW5UhYSIGYARizWDSN\n",
       "6Yc2AQYtz+Z4riGv8JJ8ineSoDSJOAAAATBBmvBJqEFsmUwIZ//+nhAAAARVD8DXWtgEIuHVVAmu\n",
       "tmr7VAIQ7Tzto8e8sZVw+4GWbTvBwgjJx9Ohc9gvzJxkwi0e0rofHmIR5X+WwGC2jQBSQa8ZIxH6\n",
       "FCDSzbUw7rzverqs9vfqLFTY/oAF4GrNgVVApdBhC+nos5j5wLnW7ZBuDKHHESjPwrmdO4rsn06C\n",
       "FcLH2wKvbfyfm6Io0AJNoV4t9TZdLvIqsCHlPqTumUsZ1qTj1WQXYOvMgytCArRb+sytSMJwWF3x\n",
       "3LFPcv+6auJg6PiV9lP+gTf8Z6eAvPCPvSr8WIbcY9B++eACOCMdnKVuIHkX4fOzPiS0JXJavSQQ\n",
       "L5gqO/H5z2UxGpgujqzSHP000ak17p2cblUXoLQfzglX4VXYVlqx3sEwnp5nAAAApkGfDkUVLCP/\n",
       "AAADAX4s7bOfUuvod4CVH3ANyQA4OTEpiwKpAoeAjeDnpxcWzcRAghKg8MhWVQHI0JKnBdt7GyzO\n",
       "CZCfKPG5G1OpMBmnREGfLw2fm4ELg/bnzdwnslkzOyHUaVlCMt96il5PE2VUMMTvOxtk/O9sn3Gn\n",
       "gO4bWZviZI2c2/IUIi//iFe+HPJ47cSoUkfovH681F8zaIiuZueOt4mJiRkAAABrAZ8tdEf/AAAD\n",
       "AlrH4v+qP2UXdK4WlcPkFnIKwvqW6BlC+SDYbSasTaiuI7fp90DwwAD+IE3d1fbdynhH3FHS2pMb\n",
       "PyvdxaazKmsL5zh/ldXs48UPcUt5tdTnvECDfw47Ibpdc4/Z94WARcEAAABjAZ8vakf/AAADAjkK\n",
       "ndF0tOIj5ZPRQgcsof/j0sJRYJ6P77Zc3jVXOjAQL+EJa+Q1RKY59ajm6hiZz3PsJNv3B014Nq3p\n",
       "WYDE4DyajmwAB/nJ/UVtnXWVkU548f+dF2BN8GxAAAABIEGbNEmoQWyZTAhn//6eEAAABFv7RgD3\n",
       "3C1dVj5xEP3iaz+ghoY0aMk4T7+XOSGz/e7SwePhVTXfwUrjtq6Tr/ktBTv7Iholh8wJhQjbVBrK\n",
       "yVBVlHbVZSQwvzPhvt3fIv92yptVyyo9UXFMb81sKCNi9tFkswKdLI7HFX1lB7onwQ+OGVHbMJ2p\n",
       "GJukElHDsC5doil88Zqd5tXC7DuPIjiJspUUT+H9CW1O/CblePds6hRhOXjBAwxm5Tn+WURxuwTl\n",
       "aND185X4VDL/TZnxI6IuvQwHn8L0Zyhgdo4n5cfyoXdlJ/3mlDh39acLb/XAL0dgFBsjwW7Y7csL\n",
       "Hh5C8bQFGOYxCEK/s6YDeOJTDMd8bs9VEQqn+pBqtoaCSVEyEAAAAJ9Bn1JFFSwj/wAAAwFrsppy\n",
       "vvIqdfB+kuz+N+Ui3P4wnMZTmnkPELBT7VdeArs6yNcsS6DNu2rQIACtuh9a2k3qmwwDKSCAQ/mt\n",
       "Ypi7ZcBIlZUhAm/CcHFWvQIR7xkiojYg5tlhgyTO+XBZAP/2lEZ7P8qN8Q92W8Y2NjUWy5Pbftg/\n",
       "Tqkv6TpqJG9B8RkUzPvxvAYgfpUFHfxk3RWxI+EAAABZAZ9xdEf/AAADAjt6a/zu7LzlEldjxu12\n",
       "jaNIZVYLU1tjtZQbaT8G1Y7ateT0DoMfuu7o6zOjIW+l49Z/LTyvgUJy9QxnbYyaa8SWwAkTcgkM\n",
       "pK6xxaEz5jgAAABlAZ9zakf/AAADAjsf0PDSLzIENYCCwzpusUlyKFrtkGmwcYhkhBRqEgqQ5q+b\n",
       "FgimlfveTc+JN3ZOJC7+AvgCsaVK1GVLG3Z78gHUQE7FJERlS9D91RTEQFucBt8MF6HOchx0RZQA\n",
       "AAEIQZt4SahBbJlMCGf//p4QAAAEW6bklagJ75vr9H0Yiac5Fr8aEJq2jOdJIEmqeeivbKmXeM1L\n",
       "P8x1TwGnD463asqBys9O83J6YidSonBGBNRcMGY6hTroqkjjpxDAhq6Ss1YSIUH6fe0IlekH2i+6\n",
       "sgCDawlxs9zdS4WpYtw/wluchjKe0ydfLzxQu3Hu/+fRn1Y+lIXLcqddUqb6frqcXo3F0E3/hpaw\n",
       "JsBdNxLwv4vdouPx+F/ZfrhPFtplaQGKC1uNrxzqYBlTpTi2+Th6dset5+q3d6yEHagwK6Sb9z/r\n",
       "chVGVPJKhnh3IUemFeXks0lOX6xdR5Y5Z44aJo++g9RQcnXHuomDAAAAdkGflkUVLCP/AAADAWLm\n",
       "XyTj7dDzKyz6B9PXeocvK2ri02AH03gBUBQIl8pq5PobYBeawmmLTpF0IeHGnq52wsPFThiqUK3O\n",
       "+W6Pf0FVYPV3rGPsvnhfy/EYuFe1p/Kin9/S3STB0Bq2ihLXu1zKKgb01qLdkWUAAABcAZ+1dEf/\n",
       "AAADAit6a/zvQ70UzH/DgIHAZlwqM1gQc38gqmoF1Ojd4RCvcU+3tWXSkljuqA89YUAV0Di7yqfv\n",
       "zaMADuSI023JG5+Ub9ixOOcyMg1tw6wAWQRHBk8AAABcAZ+3akf/AAADAixu6IztR5oAPDywyMEj\n",
       "IcV0R5Ke4MbWd76AOMAAShYCNL7Fs72bAy6o014khERYkdH9YiJhgHiCE6LM/2ayctxUK9N6FmKU\n",
       "onc3YMFzdU89PekAAAD4QZu8SahBbJlMCGf//p4QAAAENQ+ArqhrVkrRoHu4UtCv3iUZ66b0R2/4\n",
       "pAAZtILmpas+8R1sBHpTxbFLu6yhInbC2IdoAm73HoDx9Ciz+kSIN2ope/E5ZjW1ppCA4Wpi/Zfz\n",
       "hKQbMT4PbIbXd6uxcz08v8I2r/FMZ7zTrVA90cOJNt/RfFpRGG96y2iA1DjDCpUrKK6jcGvSIY8H\n",
       "4xN6vV36o/OMaUoKsVC+ckx06azlHFIj7aVIDQ85fEV15/XYsjMnll0FCOTapadtlf34yufscmFL\n",
       "vJ+zmuuPaBNqTa59OJ2QClwBIt8pJ0Xq4ehvO5chFpZc7g0AAABsQZ/aRRUsI/8AAAMBYTgnR2aQ\n",
       "tm4Kp3Zyu6m4wWaukNiogZTVfZlEKzo/XQUAIwFl3u1ptwY0Zwzgc+Lhzj1rwAgFqcMjzYtTeHrC\n",
       "wSDUr94gSZRpA72djeScJnTl63XZU50P7Ll1RD1JOWpBAAAAYgGf+XRH/wAAAwIpwvV9MjSMEr7W\n",
       "7ktXh1hOowmjgmYITp4MmEXQJa55vZcAASgLtxpy38BWdyqsWKMby2sTTIsFsrVc3K4h47jJWU1r\n",
       "/p7PmHofF1iwgWtrqeaxEhAOTwQcAAAASgGf+2pH/wAAAwIr1DGyqlPcgNPN5RhlDIBhbulOLE+d\n",
       "1I4RKWWQGCqVPmXwH5CypeTnkgJ7JViAtW9A2Nn9KbXogyZVvyLHPcDBAAAA/kGb4EmoQWyZTAhn\n",
       "//6eEAAABDum875xCmInWpWjPxEaSgKt6OJ2ITLsSwT5f40b1GrwAYIeVryNZD8K8iIZARDqpcZ4\n",
       "6isk4u3fX2F6ArqWpXFhh77v1PjQDdHc4uyNQR/Ut/rTHypqIPeGuOtfCE9pGz8hBRsDeyqlwVO0\n",
       "6FDWYObHQpkBkMc2KyhiO6hSoXHe7putnwzESfHRhbnAlxdCMhn0Ezou0hURPDQt67yZ4GIVZoLz\n",
       "vN2PSGoPaaNcsNtbaXzvOGmN2g2eG0A1njbr94M6W5cdKqxgUVEGzlMAPr6y63l5wftzgoM2RFFs\n",
       "N2AFY4LN4r0CHRZh1RUhAAAAf0GeHkUVLCP/AAADAWJT7DnqMnG8w/5JTZkOodcC5ENVs3ge3Z83\n",
       "uU9/7KBIVIVfO8DN4slaYY+/K4/BJIsEOuKavzTYKUFNNo3RQM+Fg8KoMzpIl/OiQt1ha+IZWbyK\n",
       "j0/AUVtQ3O3W2847Yo40LG7PZGaqAbOHiDCAjkjyGx4AAABNAZ49dEf/AAADAirAiN+8Vbd6RwQn\n",
       "RdR+SugPmonW47NlFZ8KfzJBKAmdU5yySkbYRtdSpO4j5J4/B/CSUxUHxBfBzraYf+hgSsAnccAA\n",
       "AABqAZ4/akf/AAADAhxu6IztRdLvbtqdg3AA7f4+/r7iQ3XPpZMxPkMf1p1Y6pxo3uV3WgMdyvoh\n",
       "nIdCA6Rgo6z3dbsjR+zFJWNHzqqKHKQKr0c/cILoWraBSCQrPpHmF9+vkauBe5dEiYrugQAAAN5B\n",
       "miRJqEFsmUwIZ//+nhAAAAQVD4A/L3eum9LNuABn51FB6AQxhONGO7E0W1azxx5NBdduOapAzDLk\n",
       "6y3Nno8lR4NCQEkk/nqQukmgnmL0FRwWYOGrXDzqkEsAytLB/fCKbURL3OzzURDhJ1ZofyAAjY/y\n",
       "dQ9d6D7fXv4q+HK5L15/KrFsjN+7xPwaqAp9WOGM2/j2yOpdsCHwxooRzsKpZ8k+CO1OZTmdUJq0\n",
       "1sDvd+CGwq70LEQLnJGk0bibVzOyWPVuul6KcdXlGWGSIiw8CBZVHROAY6hD+8TKyLAAAACXQZ5C\n",
       "RRUsI/8AAAMBWeZfJOPtsjr00X7WcJj0kz9kGqPcAIv7ymNMhbE6fzXb7P7DATtgc8wO+88NVYL6\n",
       "N2in0w9KrDlHoZsnui3JJHQ7BjmO4DB+tS04LYyfzXajX+ZHa7QDwSpcIVwipc1PLTgQf2kim7FZ\n",
       "0LU/AdROEW0XZuXGzylfAklQTV5Nx+SML3fl/7AKtT/JwQAAAFwBnmF0R/8AAAMCG3psHMMPoXvF\n",
       "yLI9LITUAQYysQ+EbM4smY13qyVrBKR6fq1haq/BPrktrnkGxAoTYtNio7nj+Y1IjVRvNhU3B1yP\n",
       "mABnN4d8Y5abCz6kl97wOAAAAE4BnmNqR/8AAAMCG9QxsqpTofD6zlEoqHVSD4M9fHPyemuKt+6J\n",
       "OXGeEWAGOeORi4eVTE0pHpmyD+BmrgVjn/ick5gb4SFSCNzHcQcRxHEAAAEKQZpoSahBbJlMCGf/\n",
       "/p4QAAAEG6bzvnEKYidalaM/ETy/zx0qObEKecuW9FdBbRgATrcSr8D/57FMXaVHs7fxb1u5U2uX\n",
       "42GEHCSdLTUges8+GVyLxCgPm0OPvo8Ehovkm8j1st56o5tjauxyPEr5C0IJ6KSkHEx/Goth1dxI\n",
       "5f9+DcpZ240k4m1gfL+HvKdCGhdc8+Z8eBmvwD0+OnWZ1y3KDYso53/UcgHfvspdDVxx1iNTBQax\n",
       "M25bD9DhWfwAeGgulgPao0gOW6JBn5UC80efaX/HkCpZG4D44jWl3kqebXtyodxDQhEjiC0tObMP\n",
       "6DuIIgNcGI30k1BYgJZOOszO5SNfrzIuHokAAAB1QZ6GRRUsI/8AAAMBWVPsOfB0698Lbxu3UuoP\n",
       "KZsPclku8o4OWP7d9TDh9aftygzg2Nzh4pLLWywQthmWgBGGxgLPYsFxMQREF+MWK1xF9xAAqgoO\n",
       "XAd01EOFZFVKrEvzKAM15PKXWDx7a73+hHJeApuXID4hAAAATwGepXRH/wAAAwIbemv87ubL5Bcp\n",
       "guOGjHukD8Lyg+X1w+RttKFu+pWeRs7CeExhyOEkuhfjwIf/cv6J6GD93N+6xA6/8Nk32C6RrZ08\n",
       "1fEAAABpAZ6nakf/AAADAgOyxYYQRxxNlFF649/N6xvTBzOwogWkZ3TvgArSSttgGxOEM63jap31\n",
       "YeudAqfEh49VAu9ByYcVMaSN0w1O2pdb3S+STKPhmVHxTJ0NBWF1T0rqqzb3N61pRrm4Dl3kAAAB\n",
       "GUGarEmoQWyZTAhn//6eEAAAAwP6lIitc44A5bt03ID3BvC37ORhP7ly/jWOmBLBQ6F+II4H24Pd\n",
       "5EBWnshBRJx2aiu2CExSFyTIO90Tzmqcd/Q6UupsZqB0Mod74PxT3yIwfNHRmbuquzDpoD5zvJxl\n",
       "IXX/4ENnz/oKOVVxQ7sxrsPM0lliklf4wvfKgORb0ZuWFHhbR3ButoPE82cp7ZMinv+uGBYgeW8l\n",
       "nb+Igf2UXwWQgtR7QUeQ9munCRK8/GgrQ5WdHJ/ylX0QSVQNCPkKcDHhonPdHMx/+XVZvc25YhY4\n",
       "6HxAu2OOYRKZU21A24Z9dD+GXr/s4qeGV/yxk+hdTqfA6Rz4pgOsOtiQBQfSO/lvhT6bp12AAAAA\n",
       "UkGeykUVLCP/AAADAVDmXyTj7ahJkrc84Pqup2+gJtAck8WQzDTZI68wI74fSZsUQPdJBg/FRNKC\n",
       "u80dHahQDQjHfftNz4rx75z8ZeugMjpal40AAABMAZ7pdEf/AAADAgt6a/zvS3Bpb+GiSt7x1ohv\n",
       "d4E7sUVZ+jahwJRO59Uuaue9GA+FaVGPhLcugzr4WYde6MQrWNVgqjWSSv/tHpCpYAAAAFgBnutq\n",
       "R/8AAAMCDG7ojO1D4bnbemI6wZdoh7nld6/UJPFK0LR0nwAqg6ZXHI/nqik2kWficFM8Z7ffAJfD\n",
       "9cxVIwiyUVEXJhtaWZn7qx6CftKxWEOBnAYEAAABDkGa8EmoQWyZTAhn//6eEAAAAwP2p1EAeDRc\n",
       "bmhZ0uGbV3G0iOi0bv9ZlzUjmnG5936416kL1xUSQZ0WyloK1+jgljJN8+Fk2wO3Z5RogXivIdPa\n",
       "4dMWaisyAhsGgUrN/CjG4eAq6hs36x6yjRsBymba7Y/UKGPfttp/I9oCzrVD6wfHTkt/E+T/xGgu\n",
       "iAs45pniwryuFtPszfWaGsXz48pfeSZYv6YSVX3+IgtlY/KAapbTP/iZM8c6BRTnL5rENWV03T8Q\n",
       "zChbxLX5nuDf/ngQxSW0/4t2kLHQIIDbxmccgBAGT7I0nMUGKuz5EM5fURs4HuxAVGPbRLxo+Zy9\n",
       "OKX+rT0jCKoIaTtGO9p3QQAAAHdBnw5FFSwj/wAAAwFQIKHM9d8U6z4yUHNhsPbTGs3p8d6N3AkA\n",
       "KqObjygbSVgi9/K9S8fOIlQ6usfjIXwuUKE1+9mD66FxaaHqiI1IcpKJMjMBs2Wv61RPtrn6BbCY\n",
       "KnvYsoRdbt1wCYFfrkrig3v/G/3rnCzPgQAAAFMBny10R/8AAAMCDAIhVxQbJA4wL0jERj5ak6Rn\n",
       "mX0vbSx0vQC6xPz7/ambBo+nn5Ae1HAAM1/1N8HBUxtwgbN9HC0eMJXizzeg1uBj5k5W+acTcQAA\n",
       "AE8Bny9qR/8AAAMCC9QxsqnpFdyAu4vQMqHe+ni2hS/AQamPzcvyi40RNuHzYU79OTGVTQZ5jPx8\n",
       "YtQ+6xxRvocKhxDgJqZuqzqSuh1a+Ag4AAABMEGbNEmoQWyZTAhn//6eEAAAAwP7wnOtLYC4AVWn\n",
       "oQOWmNWsCEktiekUfMFuQ8Fta0gHl0stitH9XEphlHZl9MRn5C1tuwhXHXFLgcEf5XNKKpqKr3FO\n",
       "mLH7oCDJlCMAyj3KGqxDOkLTjfeCaTt4lI2/G+z/1hr9H77K8K6KsRgfX5XqtsAYjDmaqcIVz64Q\n",
       "mWbXdfCWistuYr5D82mzDzcZF35fs+BKXCRe+nuibHpH3O9P4UU65ndkwgvmV1/Zh0Cu/N3aC9uq\n",
       "49MMW4pNHq1lyrakD/TxgDYLbZekzsAfQEYKFRQtiHoz9Emf/m7l14goruzIq3SwTDemkTwVHRhB\n",
       "kNJszdHqETPeIMd/6XcZu+5BzikFg5W8L4steySgwjtHFJZfLiiJVZgWyLKKc1AAAACLQZ9SRRUs\n",
       "I/8AAAMBUFPsOeoyde/FxHsT7+bvSGOJPOHiGORjNYI5Oq5PcmzeJWR3FvkJd2b520cBvsxSVgAM\n",
       "8z2IF1lu2r+1grAiqDin+F4uiLuFaLkFeDwB4YGMIqopAWREnCkof3fjxj3qJpO1RZ99N3dysO/7\n",
       "nNYdZFozY0K3bHoMLnDaCXSERQAAAE0Bn3F0R/8AAAMCCr11/wEdXqXQq7YH9qlSJkjjFvpDHJop\n",
       "eQSaDVL9/GHlfO2J1+9XGRu8TSdbeYPQAuvmFi+9jQNdnr58NqYVJTw3VAAAAGIBn3NqR/8AAAMB\n",
       "+Q+ki8AIdDRHCavQvo1GLIfY14AFE0Lwn3DJwEhhJdNqv/EON0EgbyURB6XABnvPmlx1E0xvW0cu\n",
       "Ja0S9JxcMF6JvXaA1VmrV2wJg1JZHOvfc4LU7KFXQAAAAQRBm3hJqEFsmUwIZ//+nhAAAAMD4HOI\n",
       "TdzBDtPSxnjdQABz7rqzxuuSaMNzOgvGBRK840WsoqOH+j9YzTjZQnRJWzuYeScwn72WzLUelpim\n",
       "k2MRkKu6Ycscm+CL4zQbhrGA4m+OLK6NF3T8wPRnCnLJqZaMEXRIbn5zl44z+7GkbJ2wq8Z0uqbW\n",
       "kq/AiDAy9EA6UPyikcHqAlv16kaeyY+z2gN6BPd65+DfwaQybltaJt9BgxcpG+uPAjrNKuvV4G2q\n",
       "lyswDfxykUai23QxfpfjUT1dm3c7pie+gNl8SPF50v5hK3v74tAlUXNzOPKRHx88ELCGD1UMbG4s\n",
       "oKqhKRvhIZQJgQAAAJtBn5ZFFSwj/wAAAwFG+5CsgzNuHir/k7OY9gjN/J3naauzRI1+tS8EGINx\n",
       "VGK1rXWfIkM/2FtOaNACMEH15PPmSYNYe+kAoIOwJOyUCdh27R4XYAJadawYNLmz9T7YT8rkqGw8\n",
       "0ibvn+A2/kTksy1LwtyY5ZpQwlCfCEkbrrMpRnVBT6m4QD7U3NQvUaejdR1/ubRFvDBUG6mHRAAA\n",
       "AFcBn7V0R/8AAAMB/BbPku9ASsn0l2PAuakZId9Yf2FNk8dXdkF18jUw+qyhNiKxy4L3ek2StJR0\n",
       "lgyYPIso0Ge29aabwa3H00boAAGwCyl0ndzNUagw92EAAABaAZ+3akf/AAADAfuToK3Upx9yCZAg\n",
       "EZzBByOY+7wk+B26srCMrbNeF8dQzyzeBsSFE+F+ishKlyjRWlvXscMdXTiswd5Sldgfdu6YEqFO\n",
       "dSNkZkJgHw9qkt3BAAABK0GbvEmoQWyZTAhn//6eEAAAAwPlwnO+cRMsAMxLvveRyurYUr9y0D1L\n",
       "rdqajmv0xXNDLphgxCqv9wKo4mwShnqwPFUK2h0RMuY1g6fKaWuefPELuZIPpebySORqT+3TvNk6\n",
       "gnw4nyPGG1t62VBhspwjeofbf/87gFRI10XlR5zUPfgkRU2QvfgPztp2QW5zbcmY2hEaP5dmB0fe\n",
       "RbjAPH/3RFxrvHKuI5NRS7dFP//3ZwVYx+pfPQ9/61Mp64SffaHF7LFbI7zLDfDu6GALHO7hdqCi\n",
       "xX8kii1ys/tEb2sRjVd50kUDp4wdfQw7EdZMuWUE8F+wP7k0+8+ZJSiMhf5GTDk3Rw7t0oT+Oy5w\n",
       "aNEL/AK81iIJxRYg9P9pykdBtS2sBM85/skQSiigAAAAdUGf2kUVLCP/AAADAUdT7DnqMnTccF62\n",
       "6rFWPB+Qk/+GTLQ6gCnACL+8pU2Mtur5nxkJG9ywQPLRqlKPahTxxGDLkGXJy/7kj5YY/USsDKTN\n",
       "YeA13UTgi+hMcuTgCnApB0HI4Ivi5U4T+rnqW5N7j13P6VhHHQAAAFwBn/l0R/8AAAMB+xTvOjqO\n",
       "kyeBhrRFySs6LfAlYF/B0SG2K1KnO5NF76psDSxDkFUON5S8AFaQJSMdEn13cQWFPqzUzgrBTl+1\n",
       "SD4yuRY2Y8ufXLN6WFnk6vz4EAAAAFUBn/tqR/8AAAMB8eQg/VemTvKRP1UaBXbzMK50KqqdPb6M\n",
       "QsM9n+NNdbtgDGZhFrnMJi8sDlxoQTjGpW6iRdgVE7RFWZdI5OdPAZMADObxSHB8hydxAAABPkGb\n",
       "4EmoQWyZTAhn//6eEAAAAwPKc7yD3iAE1un1dsuAVGRevivBiEx9DH2IlRk38AQfWieCTeYkICno\n",
       "2pOrdbq/QJh8S3bXf94XypeSJpSjBxriKFaQMwuhMT/Dn5wsoTPaTVhrHXg45nTnx4uZQkACM8rV\n",
       "BLklt2oh1swV9vNngbxPtgrd491i/hZ85dT4H72/vLfbcC4GFHhgJtF0xtu/ZoMFhXh8Qr72Llc1\n",
       "SyL/17DXGqRKyt2vhpdCndYHz56YlU5h9EkV93KPeaGwK98WW6Qs/mH0yqEZJeN3pcLLid7+fa6G\n",
       "JepT1l/lJ9HyLREBNrvumcmuZs3XghrfjcqrQmK+4260glJt6+3pA5PaalkG1oLRAMaBjoaB2iDF\n",
       "hZ7EYNpqUkyc0gntt/40hELhyxukD8kDDGu/DX+PEwAAAFlBnh5FFSwj/wAAAwE+5l8k4+3aJASe\n",
       "NsigA9tXUNvTbKvDU8aewCOroQZqX175G0dVAFDvpn8UN1EgGedjoLnjLZCu7cAYlXRpEcoqoRT/\n",
       "ChmQz4nFlbqziQAAAEYBnj10R/8AAAMB8RbPku8+3Gpn6TLjeE2W58paFamzh8fJ7ctvaFb63McN\n",
       "AcvvHJAELGHV/BZw4RRK9hd+jskHwy8JQOk4AAAAUQGeP2pH/wAAAwHwkSiEr+4Z6Z86HRv60QTJ\n",
       "rrsZlPfwtqA8qo7R86qEtigQZLpioDMmxeW6rWHFg6mPYicUIJVWCQuiucMADOFruZrXPukFbQAA\n",
       "AQhBmiRJqEFsmUwIZ//+nhAAAAMDyeqFQ8DYe+PD081bkMiKXrUZQGbniT1biCnIlx6tKEauAsaJ\n",
       "esct+UpBljK2jdpLTh0jYVbAKKsoPkn2r+Mmq/zPRwOJczM6y/E1LiKRzmuEcS6j4eU//rua7vK6\n",
       "EpcBVs6JsXyRKxePoRcjiYHFBRV674oPV3jzgVL1PWlX/7A323wPQYbXAFDMYnlVpudOZHKCXbLg\n",
       "ypK03px8eQ+GOcbnSMX1O+F0+hVGf6qWQ7uRPnlfYGKQYOzRZGqZPz+XCFwAbHcFTSm7yQPVkXR8\n",
       "8YaDSfMmfYhi59nqcF+sJvP2vibhOV/jnrd7c4R1d6D22F6rP24AAABfQZ5CRRUsI/8AAAMBPixw\n",
       "7WcI+UYfZgkRXe4XU1Adnn6vwBKsmuIHZLzKUOYGDTex3+PkAxg6QeoyC1NrGJkMNVDFGVHUZTkA\n",
       "UiwdzU+jv6MsjeAmOuQg4CEJbn+EVsEAAABXAZ5hdEf/AAADAfBokPU053VY7CMBD9HBpnOOXr9t\n",
       "nDrnxTrxBpkh9K6/k7HK6gtniKopvXACHLIyMr3mHHGuuox00IoAuVMUwAB/nD/yK8OfmrBEq3La\n",
       "AAAAYgGeY2pH/wAAAwHwy2p1PcQZepY1tZT1YrIhF0IWtuD3nlboVWXrcEBjcNYZuIA6ZRarK/XM\n",
       "CHb6J8BDa5ZXX4uDGxHKK4wBrEk4sB9gUH9mn1eYwPyiHKX/SCbs/RAgSRDBAAAA1UGaaEmoQWyZ\n",
       "TAhn//6eEAAAAwO0c4hTpGZNBeC8kJKxY2KtdVg0he4GfjetmeBjvHYkOUkIeb1pfTnawkDVBGl6\n",
       "38rzSZvuyVaXg1GBUfD8wJErWQEFAscH7vvW7ufVh0dJORqv3zVJE6pOKynR+NyUm6WCyUHrbzKb\n",
       "pmihj5aK7sGmEeRxnLfMrhdGNN9Y32koj02fWlkzRHz5dcPw+H27Ko+LNNpTTtn6oOalAvmz1V6S\n",
       "bylHV4aU3Kf1X9GGkAFvUqvCcOxMqSrl22onOXaTBPOH/QAAAFlBnoZFFSwj/wAAAwE2Bl8k4+2i\n",
       "1mrP6lWWxoJupHi1CxC/rxHdh50w2B1uBZW75aAuiSm8NnvzYPr+d4HpyMRbmN/hEFwwugrXm0dC\n",
       "UxM6lZCQBboQavna0wAAAFcBnqV0R/8AAAMB5oLKKlPmlv4vnLVtjdh6RpArzSTJsSW9riB0ZN6y\n",
       "K/LWfpuVAB+/t5P9+QnlOoEhEXb2Io2ofugO9hAc8NiCS/P+DABnN4pDiA7Q2YEAAABcAZ6nakf/\n",
       "AAADAebkIP1XouCPTtpxCjrGEIvxDDu6UF7kFWtBP/jfdhpdq2AdIkuTDGDS4ARCQ2QwkpHtNGeC\n",
       "7gLGHI29jJawCPJlOi/hLET1ritpbyXCKbBLcG4AAADPQZqsSahBbJlMCGf//p4QAAADA7RziKl/\n",
       "r2eo/cq5/vB0b8lGeum85amNMqoARaWFYEHJ2FRwc+WLtFrsQ/vuIpiWo7tLvlF4HEgzwX8LeQw7\n",
       "4uvFbiBMqLnA57yLXsxtL13D8jCGmqEKTam+vKoBHwuOugra4GapWuiRXW+GTIvJbwh91tMhdEUh\n",
       "Ro6qf6UOaGT46RBLFiNrttKrZDiaNVnEyvXyDlf2DAAR3kXAT6Q5gf4injrXBLBTG2dI4dngxTeb\n",
       "EuGkPHukkrHFPlTQAAAAW0GeykUVLCP/AAADATVcb+1lsM1vAPGD3FssOztxoABJbqttElb7B6Ih\n",
       "zXfA8bHJ4auAoQUBF/VbPnVSj2QzdWvQ3RaSKw7aQGIe28p/MeZ/dditfVSRFLajEPEAAABNAZ7p\n",
       "dEf/AAADAeYWz5LvQFlUPEoAURe+GMqknact/1clVhwqsaA2I4rMmte/pncbv5sYQY4q16x4emv6\n",
       "gp+nlqhb3cy5pP5xeEzA4IAAAABTAZ7rakf/AAADAeWToK3Up7lxp8F5ljX/1x/zZXJ3hqybawV6\n",
       "ZEXjDGykBWhOoI4J51W/Mi+Ewo0EoGbsGfeXLvdlN8dS+gljiEM/CTlO2K2dP8AAAAC/QZrwSahB\n",
       "bJlMCGf//p4QAAADA7nCc75xFvcALUTA0H/51ala1JuvPhfVtwu2cG9nvrPQk81TBciehM+sMb24\n",
       "qevWVc0KfBoIOACBjat1mUO2OnyFw6CHZCBHzJfXNIU4oDiKFoEkQSmlQbyMrS1gc1Sb2HkvN9wm\n",
       "jxY5360BCeSga0P59bf5IonbH4WPMu/tXG8wgjgsleGW1l4JQMs7DMssMnVyLBG3JID+m/+uCoZn\n",
       "DZ7z5C6EBb3TqqmHkWUAAABgQZ8ORRUsI/8AAAMBNYAuc+wZOxQ4V8I7jg/wXds5M+dcURa+hRpr\n",
       "uEZCcXsvBpxRd0c1hl9MWtmdc6dfks95yR39DrtuBtruRGWWMFFkSnbr+VpchNTQtX3rkB6HVG7B\n",
       "AAAAVQGfLXRH/wAAAwHliGtvvIwAlSxraynqxWStY7gRzs6fJ3CP5u/yutDsL05jZbY6F5JG0ezG\n",
       "6VZMHdl8tzAkv2nkzKUXhinQcZXexMqaiBz/swO4yT0AAABHAZ8vakf/AAADAdvkIP1Xpk7ykT9G\n",
       "TfMXtCxj/tR8ZTE/0bBJDneOAkLwkYj1jTJAQW2NhbpHwuukT2fcCusdgqHoDSx/VFwAAAC1QZs0\n",
       "SahBbJlMCF///oywAAADA6R9ujPiiv4Twa50s4KAhlXI+gBP5mhzM30G4upOLU+eKTWnisBHzCUV\n",
       "7sPz5u83P6s921MPB19eDqAuj/kfuvnqsWFNbui8F/wSmwuY7CT4drlSFa6/JxlS6RlVuM09+O7T\n",
       "Q64txJ8Y0HOGoiRiuhF0DCxcqwPsXBmfEfXA/TuuJzeTQBDu3ifS9Rlp7iyhrwt61m2JJ+TSwifw\n",
       "GCCc5gVLYAAAAF9Bn1JFFSwj/wAAAwEuBl8k4+2yOu+I1l16rbF7eARxXQdhMCDfVkdiPxvvdzT7\n",
       "NE587wolBH7v9Ozwi9AZ6Kjgcz3zjhwiqUykVbXVDP/5pjB/MiguQ9owpZZDLbu4IQAAAFcBn3F0\n",
       "R/8AAAMB2xbPku9LcJ4T6MbpdRvDirSuluWgYwMvOHuKvslAemr/IhP4TDxVYMxHRzGj7SH+CLCz\n",
       "bOutZ9AB2/x9+pZ8uk6Mq4Tj50SkbGJri4gAAABNAZ9zakf/AAADAdtnTYJ06Kh9ZvCaVDxjOMIv\n",
       "WvqJYbPkbw/imtUq0ptxDqHPYLutoVppA3dm2wjxX9NhUWyDJpoGcxUrQAZwlcG6ObQAAADFQZt4\n",
       "SahBbJlMCF///oywAAADA6nCc/bMuF8rJ7F5lqAECB3yrjx2hL3PIWtGNbV2oZa5CkUuG8B+1Q8/\n",
       "jUWGDHwqjz1pXaPoZxG+nvl9dFwkVNXvV8laV3ZtLejzDiYv16eFpdyDXgq/h+xEgjz5tDEUmSSg\n",
       "vYul7WN42woJjD8LkE3w/FdIdWeA0LRmHO3bELbmBqahn8L8NDlSuwZpFCdL7xK1dxmjIYlQZ2Wq\n",
       "eKrfdqMf95CXu5sy1HDInoBSmviM0oEAAABqQZ+WRRUsI/8AAAMBLYAuc+86dZwk2L2wNfGMUjZa\n",
       "hJAPsGb0b43hm0kIddnHeQe+w6neUi5fCi5wb7kNCoMYKOXxBiHUAIxnfc4J5RxeffvVk4uKca/4\n",
       "Q4OOLBrDlySNOuaWdRAULt8NfAAAAEcBn7V0R/8AAAMB2xbPku7svOUQr3pxHulv/HielY3/qzBF\n",
       "82t7apHdhCl1tPThrOaCTh+tXE1u5XbxNrah9PifuMaSpmWHzQAAAFABn7dqR/8AAAMB0OQgvCxD\n",
       "PzgKX6U2aK00y2DEijhI7dsZeNA/y3YfvaKgxWsMswDeE7U51S44GTVV6ZcWOkLFN5YFZmNceTje\n",
       "ZnMtTwBqQQAAAJpBm7xJqEFsmUwIX//+jLAAAAMDjn26M+KKz8WhsWyT/m7tuYHP98DZm1cqlcvG\n",
       "N1V2UE1pjwQdC3U9j4iJ85gpu9PsY0/OSme6us5EdI/beoglkqgwJphDpGcScDWYR6bbGMkECOep\n",
       "fHVVLpKPE9PKN/Gwwa8jgBvJLMyCCY+Bfsw0HwCIag1OKHrwTtbwjmlS3Gxhw2g8rh04AAAAW0Gf\n",
       "2kUVLCP/AAADASYGXyG7ymT490zuux/Gt5Fkn2k102LNLDF1AnGPyb1gOW+SlrnQsyqNEW7wTRP5\n",
       "86RcZj7zH55Pj87i1nfrNajho6yuEpzv0OriWshMDYkAAABDAZ/5dEf/AAADAdAWztqOUgERRIiF\n",
       "F8odUQ7cK66GuTwPkzo2EsbH8CNwFxveVecI5FnxBN846pWw0WgMUycKlVqDfwAAAEwBn/tqR/8A\n",
       "AAMB0OQgy4fAgA7iol88SKMDX/ZOlxTr6MqNqPbmtaAVzRQNqtapYDPmCWDiAVJuVdkFCtisPlnG\n",
       "2kff6Vcg0yX1DcZ1AAAAjUGb4EmoQWyZTAhX//44QAAADd/0abMncTNSfnyrvjNaOV6S9hfwqi03\n",
       "Ts3wMirWXFuhmc01yk1PROBFi4DHKmFKEo84HaS6kSp2XpsB9hSkSizcelwTMOVzoQbgn+mYcINn\n",
       "D/8Fe4vf8ZNEDGQrF/2XpY7XIFVU5aLOCUT39diLhL+mft/3Q2zhZbg1QQAAAGVBnh5FFSwj/wAA\n",
       "AwElXG/tZbCwH/wzOds+bDDSNqTdxOcfDzZOxdqaaIhjq96GzwixwjEaQbThnQbzkVKm+/r3q0vl\n",
       "oaqbO+GqiIa2xEBA/71/GvlEAIFXFBvf83DDg0jc/bsiIAAAAFIBnj10R/8AAAMB0ISbiwoHLKNe\n",
       "b/hfr/NkAyasjAnNprCPiNgJHPpS24XircPKvtF+7yf2AJ8pRxFArfhEoBYmY5QQ3dAAAf5mJ77H\n",
       "YnzJmJgQAAAAVgGeP2pH/wAAAwHQ5CD9kCADNvqYMJ4R+NE2LSx8mjHpHtQLsmk8iEQQlbcLDKOb\n",
       "yYQR1G5AjFmXKcrtbGcfPTbAS6V3BVDzTPp9DTwcI6uEEO2Z/sXZAAAAd0GaI0moQWyZTAj//IQA\n",
       "AAMAzX7CrWlMrt/FcQkfsAot2i/+IK0RgMqfPBUIP0PJ3zFxO8vxcB6sd8jCc9lH3IXFXz1KVGRM\n",
       "gCzQAlhmC/3Y5vnAuAEQaXz+5LmzhcRfCVReEKt3KO03B+my18xeVSJarlBwoiXcAAAAZ0GeQkI/\n",
       "/wAAAwHFsLk+DX6MqqVyhQAO51qgGh3LDPJF0EZxczH4Ht0uDDCkj1xprATjNWhgLMwrnqos3eBv\n",
       "RagWi1gxqCCH3gkyHoGkWdsYP2nnIhVG/1kiz9+UdB8lYny/LxoEdMEAAABOAZ5haRH/AAADAcXk\n",
       "ISfj4oYNjL5zsJCsT1MOYTpvPV0EgD/HNVLx6+dQcQvzFHy+hV6ysBiFI+UmnEKi7RfxyxV8gpLU\n",
       "NP/R2mFzIkaIAAAH3m1vb3YAAABsbXZoZAAAAAAAAAAAAAAAAAAAA+gAAAfQAAEAAAEAAAAAAAAA\n",
       "AAAAAAABAAAAAAAAAAAAAAAAAAAAAQAAAAAAAAAAAAAAAAAAQAAAAAAAAAAAAAAAAAAAAAAAAAAA\n",
       "AAAAAAAAAAAAAAIAAAcIdHJhawAAAFx0a2hkAAAAAwAAAAAAAAAAAAAAAQAAAAAAAAfQAAAAAAAA\n",
       "AAAAAAAAAAAAAAABAAAAAAAAAAAAAAAAAAAAAQAAAAAAAAAAAAAAAAAAQAAAAAKAAAAB4AAAAAAA\n",
       "JGVkdHMAAAAcZWxzdAAAAAAAAAABAAAH0AAAAgAAAQAAAAAGgG1kaWEAAAAgbWRoZAAAAAAAAAAA\n",
       "AAAAAAAAMgAAAGQAVcQAAAAAAC1oZGxyAAAAAAAAAAB2aWRlAAAAAAAAAAAAAAAAVmlkZW9IYW5k\n",
       "bGVyAAAABittaW5mAAAAFHZtaGQAAAABAAAAAAAAAAAAAAAkZGluZgAAABxkcmVmAAAAAAAAAAEA\n",
       "AAAMdXJsIAAAAAEAAAXrc3RibAAAALNzdHNkAAAAAAAAAAEAAACjYXZjMQAAAAAAAAABAAAAAAAA\n",
       "AAAAAAAAAAAAAAKAAeAASAAAAEgAAAAAAAAAAQAAAAAAAAAAAAAAAAAAAAAAAAAAAAAAAAAAAAAA\n",
       "AAAAABj//wAAADFhdmNDAWQAH//hABhnZAAfrNlAoD2hAAADAAEAAAMAZA8YMZYBAAZo6+PLIsAA\n",
       "AAAcdXVpZGtoQPJfJE/FujmlG88DI/MAAAAAAAAAGHN0dHMAAAAAAAAAAQAAAGQAAAEAAAAAFHN0\n",
       "c3MAAAAAAAAAAQAAAAEAAAMwY3R0cwAAAAAAAABkAAAAAQAAAgAAAAABAAAFAAAAAAEAAAIAAAAA\n",
       "AQAAAAAAAAABAAABAAAAAAEAAAUAAAAAAQAAAgAAAAABAAAAAAAAAAEAAAEAAAAAAQAABQAAAAAB\n",
       "AAACAAAAAAEAAAAAAAAAAQAAAQAAAAABAAAFAAAAAAEAAAIAAAAAAQAAAAAAAAABAAABAAAAAAEA\n",
       "AAUAAAAAAQAAAgAAAAABAAAAAAAAAAEAAAEAAAAAAQAABQAAAAABAAACAAAAAAEAAAAAAAAAAQAA\n",
       "AQAAAAABAAAFAAAAAAEAAAIAAAAAAQAAAAAAAAABAAABAAAAAAEAAAUAAAAAAQAAAgAAAAABAAAA\n",
       "AAAAAAEAAAEAAAAAAQAABQAAAAABAAACAAAAAAEAAAAAAAAAAQAAAQAAAAABAAAFAAAAAAEAAAIA\n",
       "AAAAAQAAAAAAAAABAAABAAAAAAEAAAUAAAAAAQAAAgAAAAABAAAAAAAAAAEAAAEAAAAAAQAABQAA\n",
       "AAABAAACAAAAAAEAAAAAAAAAAQAAAQAAAAABAAAFAAAAAAEAAAIAAAAAAQAAAAAAAAABAAABAAAA\n",
       "AAEAAAUAAAAAAQAAAgAAAAABAAAAAAAAAAEAAAEAAAAAAQAABQAAAAABAAACAAAAAAEAAAAAAAAA\n",
       "AQAAAQAAAAABAAAFAAAAAAEAAAIAAAAAAQAAAAAAAAABAAABAAAAAAEAAAUAAAAAAQAAAgAAAAAB\n",
       "AAAAAAAAAAEAAAEAAAAAAQAABQAAAAABAAACAAAAAAEAAAAAAAAAAQAAAQAAAAABAAAFAAAAAAEA\n",
       "AAIAAAAAAQAAAAAAAAABAAABAAAAAAEAAAUAAAAAAQAAAgAAAAABAAAAAAAAAAEAAAEAAAAAAQAA\n",
       "BQAAAAABAAACAAAAAAEAAAAAAAAAAQAAAQAAAAABAAAFAAAAAAEAAAIAAAAAAQAAAAAAAAABAAAB\n",
       "AAAAAAEAAAUAAAAAAQAAAgAAAAABAAAAAAAAAAEAAAEAAAAAAQAABQAAAAABAAACAAAAAAEAAAAA\n",
       "AAAAAQAAAQAAAAABAAAEAAAAAAEAAAIAAAAAAQAAAAAAAAAcc3RzYwAAAAAAAAABAAAAAQAAAGQA\n",
       "AAABAAABpHN0c3oAAAAAAAAAAAAAAGQAABOXAAACXAAAANoAAAB0AAAAdwAAAT4AAADeAAAAcQAA\n",
       "AGgAAAGeAAAAqAAAAGUAAABoAAABNAAAAKoAAABvAAAAZwAAASQAAACjAAAAXQAAAGkAAAEMAAAA\n",
       "egAAAGAAAABgAAAA/AAAAHAAAABmAAAATgAAAQIAAACDAAAAUQAAAG4AAADiAAAAmwAAAGAAAABS\n",
       "AAABDgAAAHkAAABTAAAAbQAAAR0AAABWAAAAUAAAAFwAAAESAAAAewAAAFcAAABTAAABNAAAAI8A\n",
       "AABRAAAAZgAAAQgAAACfAAAAWwAAAF4AAAEvAAAAeQAAAGAAAABZAAABQgAAAF0AAABKAAAAVQAA\n",
       "AQwAAABjAAAAWwAAAGYAAADZAAAAXQAAAFsAAABgAAAA0wAAAF8AAABRAAAAVwAAAMMAAABkAAAA\n",
       "WQAAAEsAAAC5AAAAYwAAAFsAAABRAAAAyQAAAG4AAABLAAAAVAAAAJ4AAABfAAAARwAAAFAAAACR\n",
       "AAAAaQAAAFYAAABaAAAAewAAAGsAAABSAAAAFHN0Y28AAAAAAAAAAQAAACwAAABidWR0YQAAAFpt\n",
       "ZXRhAAAAAAAAACFoZGxyAAAAAAAAAABtZGlyYXBwbAAAAAAAAAAAAAAAAC1pbHN0AAAAJal0b28A\n",
       "AAAdZGF0YQAAAAEAAAAATGF2ZjU2LjM2LjEwMA==\n",
       "\">\n",
       "  Your browser does not support the video tag.\n",
       "</video>"
      ],
      "text/plain": [
       "<IPython.core.display.HTML object>"
      ]
     },
     "execution_count": 54,
     "metadata": {},
     "output_type": "execute_result"
    },
    {
     "data": {
      "image/png": "[encoded data removed]",
      "text/plain": [
       "<Figure size 640x480 with 1 Axes>"
      ]
     },
     "metadata": {},
     "output_type": "display_data"
    }
   ],
   "source": [
    "fig, ax = plt.subplots()\n",
    "\n",
    "ax.set_xlim(( 0, 3))\n",
    "ax.set_ylim((-0.1, 5))\n",
    "\n",
    "line1, = ax.plot([], [], 's')\n",
    "line2, = ax.plot([], [], 'r-v')\n",
    "\n",
    "def init():\n",
    "    line1.set_data([], [])\n",
    "    line2.set_data([],[])\n",
    "    return (line1, line2)\n",
    "    \n",
    "def animate(i):\n",
    "    x = np.linspace(0, 1, 100)\n",
    "    line1.set_data(x[i], 0)\n",
    "    line2.set_data([x[i], x[i] + F[0]], [0, 0 + F[1]]) \n",
    "    #plt.quiver(x[i],0,F[0],F[1])\n",
    "    return (line1, line2)\n",
    "    \n",
    "anim = animation.FuncAnimation(fig, animate, init_func=init,\n",
    "                               frames=100, interval=20, blit=True)\n",
    "\n",
    "html = anim.to_html5_video()\n",
    "HTML(html)"
   ]
  },
  {
   "cell_type": "code",
   "execution_count": null,
   "metadata": {},
   "outputs": [],
   "source": [
    "conda install -c menpo ffmpeg"
   ]
  }
 ],
 "metadata": {
  "kernelspec": {
   "display_name": "base",
   "language": "python",
   "name": "python3"
  },
  "language_info": {
   "codemirror_mode": {
    "name": "ipython",
    "version": 3
   },
   "file_extension": ".py",
   "mimetype": "text/x-python",
   "name": "python",
   "nbconvert_exporter": "python",
   "pygments_lexer": "ipython3",
   "version": "3.9.12 (main, Apr  4 2022, 05:22:27) [MSC v.1916 64 bit (AMD64)]"
  },
  "vscode": {
   "interpreter": {
    "hash": "0888c97fd09b1711ce1e51bb9d5180b8f83af9045dbdfc5e753acc75cf3f7ea6"
   }
  }
 },
 "nbformat": 4,
 "nbformat_minor": 4
}
